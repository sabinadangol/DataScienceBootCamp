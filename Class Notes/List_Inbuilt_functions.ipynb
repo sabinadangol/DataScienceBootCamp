{
  "nbformat": 4,
  "nbformat_minor": 0,
  "metadata": {
    "colab": {
      "provenance": []
    },
    "kernelspec": {
      "name": "python3",
      "display_name": "Python 3"
    },
    "language_info": {
      "name": "python"
    }
  },
  "cells": [
    {
      "cell_type": "code",
      "execution_count": null,
      "metadata": {
        "colab": {
          "base_uri": "https://localhost:8080/"
        },
        "id": "ROq1Sk0wKNy7",
        "outputId": "0b794cf4-901c-4f2a-e598-8edcc4af8447"
      },
      "outputs": [
        {
          "output_type": "execute_result",
          "data": {
            "text/plain": [
              "['__add__',\n",
              " '__class__',\n",
              " '__class_getitem__',\n",
              " '__contains__',\n",
              " '__delattr__',\n",
              " '__delitem__',\n",
              " '__dir__',\n",
              " '__doc__',\n",
              " '__eq__',\n",
              " '__format__',\n",
              " '__ge__',\n",
              " '__getattribute__',\n",
              " '__getitem__',\n",
              " '__gt__',\n",
              " '__hash__',\n",
              " '__iadd__',\n",
              " '__imul__',\n",
              " '__init__',\n",
              " '__init_subclass__',\n",
              " '__iter__',\n",
              " '__le__',\n",
              " '__len__',\n",
              " '__lt__',\n",
              " '__mul__',\n",
              " '__ne__',\n",
              " '__new__',\n",
              " '__reduce__',\n",
              " '__reduce_ex__',\n",
              " '__repr__',\n",
              " '__reversed__',\n",
              " '__rmul__',\n",
              " '__setattr__',\n",
              " '__setitem__',\n",
              " '__sizeof__',\n",
              " '__str__',\n",
              " '__subclasshook__',\n",
              " 'append',\n",
              " 'clear',\n",
              " 'copy',\n",
              " 'count',\n",
              " 'extend',\n",
              " 'index',\n",
              " 'insert',\n",
              " 'pop',\n",
              " 'remove',\n",
              " 'reverse',\n",
              " 'sort']"
            ]
          },
          "metadata": {},
          "execution_count": 8
        }
      ],
      "source": [
        "a=[1,2,3,4,5,6]\n",
        "dir(a)"
      ]
    },
    {
      "cell_type": "code",
      "source": [
        "a=[1,2,3,4,5,6]\n",
        "print(\"Before append\",a)\n",
        "a.append(8)\n",
        "print(\"After append\",a)"
      ],
      "metadata": {
        "colab": {
          "base_uri": "https://localhost:8080/"
        },
        "id": "QlPPFZu3Kfkc",
        "outputId": "1e2ffcfb-2e03-4264-c5f9-676222b028e4"
      },
      "execution_count": null,
      "outputs": [
        {
          "output_type": "stream",
          "name": "stdout",
          "text": [
            "Before append [1, 2, 3, 4, 5, 6]\n",
            "After append [1, 2, 3, 4, 5, 6, 8]\n"
          ]
        }
      ]
    },
    {
      "cell_type": "code",
      "source": [
        "#clear function removes all elements of the list\n",
        "a=[1,2,3,4,5,6]\n",
        "print(\"Before clear\",a)\n",
        "a.clear()\n",
        "print(\"After clear\",a)\n",
        "print(len(a))"
      ],
      "metadata": {
        "colab": {
          "base_uri": "https://localhost:8080/"
        },
        "id": "RRknewSvLaU5",
        "outputId": "c44f8a7c-e9d7-4c14-a2ca-e794fbfd8b8f"
      },
      "execution_count": null,
      "outputs": [
        {
          "output_type": "stream",
          "name": "stdout",
          "text": [
            "Before clear [1, 2, 3, 4, 5, 6]\n",
            "After clear []\n",
            "0\n"
          ]
        }
      ]
    },
    {
      "cell_type": "code",
      "source": [
        "a_list=[1,2,3,4,5,6]\n",
        "b_list=a_list\n",
        "c_list=a_list.copy()\n",
        "print(\"Before Operation Actual List\",a_list)\n",
        "print(\"Before Operation Equal to List\",b_list)\n",
        "print(\"Before Operation copy listt\",c_list)\n",
        "print(\"===================================================\")\n",
        "#make operation on list\n",
        "a_list.append(8)\n",
        "print(\"After Operation Actual List\",a_list)\n",
        "print(\"After Operation Equal to List\",b_list)\n",
        "print(\"After Operation copy listt\",c_list)  #doesnot change after copy function even if a_list changes c_list doesnot\n",
        "print(\"===================================================\")"
      ],
      "metadata": {
        "colab": {
          "base_uri": "https://localhost:8080/"
        },
        "id": "w0sqqZ9PLz1F",
        "outputId": "47495d8a-9d66-4647-eb5a-6e4507f0bf35"
      },
      "execution_count": null,
      "outputs": [
        {
          "output_type": "stream",
          "name": "stdout",
          "text": [
            "Before Operation Actual List [1, 2, 3, 4, 5, 6]\n",
            "Before Operation Equal to List [1, 2, 3, 4, 5, 6]\n",
            "Before Operation copy listt [1, 2, 3, 4, 5, 6]\n",
            "===================================================\n",
            "After Operation Actual List [1, 2, 3, 4, 5, 6, 8]\n",
            "After Operation Equal to List [1, 2, 3, 4, 5, 6, 8]\n",
            "After Operation copy listt [1, 2, 3, 4, 5, 6]\n",
            "===================================================\n"
          ]
        }
      ]
    },
    {
      "cell_type": "code",
      "source": [
        "\n",
        "#returns frequency of the value passed in the function\n",
        "a_list=[1,2,3,4,5,6,4,4,8,8]\n",
        "print(a_list.count(8))\n",
        "print(a_list.count(4))"
      ],
      "metadata": {
        "colab": {
          "base_uri": "https://localhost:8080/"
        },
        "id": "arB_9gWgNk_y",
        "outputId": "7a10b8f1-db21-4369-c53d-0aa47ab41821"
      },
      "execution_count": null,
      "outputs": [
        {
          "output_type": "stream",
          "name": "stdout",
          "text": [
            "2\n",
            "3\n"
          ]
        }
      ]
    },
    {
      "cell_type": "code",
      "source": [
        "#Extend function\n",
        "a_list=[1,2,3,4,5,6]\n",
        "a_list.append([7,8,9,10])\n",
        "print(a_list)\n",
        "print(a_list[6])\n",
        "print(a_list[6][2])"
      ],
      "metadata": {
        "colab": {
          "base_uri": "https://localhost:8080/"
        },
        "id": "1Qr0DuCfOg5W",
        "outputId": "903474c7-1ddd-4330-f8c5-46d3d6b2d200"
      },
      "execution_count": null,
      "outputs": [
        {
          "output_type": "stream",
          "name": "stdout",
          "text": [
            "[1, 2, 3, 4, 5, 6, [7, 8, 9, 10]]\n",
            "[7, 8, 9, 10]\n",
            "9\n"
          ]
        }
      ]
    },
    {
      "cell_type": "code",
      "source": [
        "#2D list extending\n",
        "a_list=[1,2,3,4,5,6]\n",
        "a_list.append([7,8,9,10])\n",
        "print(a_list)\n",
        "print(a_list[6][::-1])"
      ],
      "metadata": {
        "colab": {
          "base_uri": "https://localhost:8080/"
        },
        "id": "3zwiS8bySiUx",
        "outputId": "ebc21f6e-a407-43df-80de-b4dbd03a938b"
      },
      "execution_count": null,
      "outputs": [
        {
          "output_type": "stream",
          "name": "stdout",
          "text": [
            "[1, 2, 3, 4, 5, 6, [7, 8, 9, 10]]\n",
            "[7, 8, 9, 10]\n",
            "[10, 9, 8, 7]\n"
          ]
        }
      ]
    },
    {
      "cell_type": "code",
      "source": [
        "#returns the index of the given value (if it's repeated, it will return whatever is comes first)\n",
        "a_list=[11,22,33,44,55,66,33,77]\n",
        "a_list.index(33)"
      ],
      "metadata": {
        "colab": {
          "base_uri": "https://localhost:8080/"
        },
        "id": "ebcBuZiWTh6u",
        "outputId": "1b4a9974-f793-4ecb-eb08-194f53b57f82"
      },
      "execution_count": null,
      "outputs": [
        {
          "output_type": "execute_result",
          "data": {
            "text/plain": [
              "2"
            ]
          },
          "metadata": {},
          "execution_count": 37
        }
      ]
    },
    {
      "cell_type": "code",
      "source": [
        "# Insert function takes in two values index and object/value/number\n",
        "\n",
        "a_list=[11,22,33,44,55,66,33,77]\n",
        "a_list.insert(5,111)\n",
        "print(a_list)"
      ],
      "metadata": {
        "colab": {
          "base_uri": "https://localhost:8080/"
        },
        "id": "7XXYcwEoVM5Z",
        "outputId": "1109c922-a64e-4b79-e678-51352d995bf3"
      },
      "execution_count": null,
      "outputs": [
        {
          "output_type": "stream",
          "name": "stdout",
          "text": [
            "[11, 22, 33, 44, 55, 111, 66, 33, 77]\n"
          ]
        }
      ]
    },
    {
      "cell_type": "code",
      "source": [
        "a_list=[11,22,33,44,55,66,33,77]\n",
        "print(a_list.pop())\n",
        "print(a_list)"
      ],
      "metadata": {
        "colab": {
          "base_uri": "https://localhost:8080/"
        },
        "id": "iMaoxhqpWHX5",
        "outputId": "4d40bbf4-532a-41cd-e9a0-25dcf4dc5ac6"
      },
      "execution_count": null,
      "outputs": [
        {
          "output_type": "stream",
          "name": "stdout",
          "text": [
            "77\n",
            "[11, 22, 33, 44, 55, 66, 33]\n"
          ]
        }
      ]
    },
    {
      "cell_type": "code",
      "source": [
        "a_list=[11,22,33,44,55,66,33,77]\n",
        "a_list.remove(55)\n",
        "print(a_list)"
      ],
      "metadata": {
        "colab": {
          "base_uri": "https://localhost:8080/"
        },
        "id": "ctKZ2vC0Wh5x",
        "outputId": "96d10e44-1614-4132-f75a-273bbf56acf0"
      },
      "execution_count": null,
      "outputs": [
        {
          "output_type": "stream",
          "name": "stdout",
          "text": [
            "[11, 22, 33, 44, 66, 33, 77]\n"
          ]
        }
      ]
    },
    {
      "cell_type": "code",
      "source": [
        "a_list=[11,22,33,44,55,66,33,77]\n",
        "a_list.reverse()\n",
        "print(a_list)"
      ],
      "metadata": {
        "colab": {
          "base_uri": "https://localhost:8080/"
        },
        "id": "EWZ25_pWXJbH",
        "outputId": "1fa6b157-97f4-4422-d9fa-d599decaa5e6"
      },
      "execution_count": null,
      "outputs": [
        {
          "output_type": "stream",
          "name": "stdout",
          "text": [
            "[77, 33, 66, 55, 44, 33, 22, 11]\n"
          ]
        }
      ]
    },
    {
      "cell_type": "code",
      "source": [
        "a_list=[67,12,34,56,11,33]\n",
        "a_list.sort()             #ascending by default\n",
        "print(a_list)"
      ],
      "metadata": {
        "colab": {
          "base_uri": "https://localhost:8080/"
        },
        "id": "84R4c_gHYj99",
        "outputId": "a93d4bc8-aa88-4889-dee8-916be5d60902"
      },
      "execution_count": null,
      "outputs": [
        {
          "output_type": "stream",
          "name": "stdout",
          "text": [
            "[11, 12, 33, 34, 56, 67]\n"
          ]
        }
      ]
    },
    {
      "cell_type": "code",
      "source": [
        "a_list=[67,12,34,56,11,33]\n",
        "a_list.sort(reverse=True)     #descending order\n",
        "print(a_list)"
      ],
      "metadata": {
        "colab": {
          "base_uri": "https://localhost:8080/"
        },
        "id": "h37oRQBcY_-X",
        "outputId": "2b3e9bb1-272b-4645-c0a7-fe325fd5ed12"
      },
      "execution_count": null,
      "outputs": [
        {
          "output_type": "stream",
          "name": "stdout",
          "text": [
            "[67, 56, 34, 33, 12, 11]\n"
          ]
        }
      ]
    },
    {
      "cell_type": "code",
      "source": [
        "b_tup=(1,2,3,4,5,4)\n",
        "dir (b_tup)"
      ],
      "metadata": {
        "colab": {
          "base_uri": "https://localhost:8080/"
        },
        "id": "wkndLff2adT_",
        "outputId": "00b73d4b-f295-4aaf-d8e8-967e1d11046c"
      },
      "execution_count": null,
      "outputs": [
        {
          "output_type": "execute_result",
          "data": {
            "text/plain": [
              "['__add__',\n",
              " '__class__',\n",
              " '__class_getitem__',\n",
              " '__contains__',\n",
              " '__delattr__',\n",
              " '__dir__',\n",
              " '__doc__',\n",
              " '__eq__',\n",
              " '__format__',\n",
              " '__ge__',\n",
              " '__getattribute__',\n",
              " '__getitem__',\n",
              " '__getnewargs__',\n",
              " '__gt__',\n",
              " '__hash__',\n",
              " '__init__',\n",
              " '__init_subclass__',\n",
              " '__iter__',\n",
              " '__le__',\n",
              " '__len__',\n",
              " '__lt__',\n",
              " '__mul__',\n",
              " '__ne__',\n",
              " '__new__',\n",
              " '__reduce__',\n",
              " '__reduce_ex__',\n",
              " '__repr__',\n",
              " '__rmul__',\n",
              " '__setattr__',\n",
              " '__sizeof__',\n",
              " '__str__',\n",
              " '__subclasshook__',\n",
              " 'count',\n",
              " 'index']"
            ]
          },
          "metadata": {},
          "execution_count": 47
        }
      ]
    },
    {
      "cell_type": "code",
      "source": [
        "b_tup=(1,2,3,4,5,4)\n",
        "b_tup.index(4)"
      ],
      "metadata": {
        "colab": {
          "base_uri": "https://localhost:8080/"
        },
        "id": "A7nJtxRLan9_",
        "outputId": "6e36eab8-2427-4465-d593-f501f78e75db"
      },
      "execution_count": null,
      "outputs": [
        {
          "output_type": "execute_result",
          "data": {
            "text/plain": [
              "3"
            ]
          },
          "metadata": {},
          "execution_count": 48
        }
      ]
    },
    {
      "cell_type": "code",
      "source": [
        "b_tup=(1,2,3,4,5,4)\n",
        "b_tup.count(4)"
      ],
      "metadata": {
        "colab": {
          "base_uri": "https://localhost:8080/"
        },
        "id": "ylGZYOzWbATp",
        "outputId": "b331b568-5192-48d2-dd0e-2fde6e5a0691"
      },
      "execution_count": null,
      "outputs": [
        {
          "output_type": "execute_result",
          "data": {
            "text/plain": [
              "2"
            ]
          },
          "metadata": {},
          "execution_count": 49
        }
      ]
    },
    {
      "cell_type": "code",
      "source": [],
      "metadata": {
        "colab": {
          "base_uri": "https://localhost:8080/"
        },
        "id": "zVZPMNX8b6bE",
        "outputId": "1b521dda-0b23-4917-a5ac-94afa5939211"
      },
      "execution_count": null,
      "outputs": [
        {
          "output_type": "stream",
          "name": "stdout",
          "text": [
            "[1, 2, 3, 4, 5, 11, 6, 8]\n"
          ]
        }
      ]
    },
    {
      "cell_type": "code",
      "source": [],
      "metadata": {
        "colab": {
          "base_uri": "https://localhost:8080/"
        },
        "id": "mdeEU_kIc5sN",
        "outputId": "6beb7181-49c5-4c2c-ccd3-ec678194bf18"
      },
      "execution_count": null,
      "outputs": [
        {
          "output_type": "stream",
          "name": "stdout",
          "text": [
            "2\n",
            "3\n",
            "5\n",
            "7\n",
            "11\n",
            "13\n",
            "17\n",
            "19\n",
            "23\n",
            "29\n",
            "31\n",
            "37\n",
            "41\n",
            "43\n",
            "47\n",
            "53\n",
            "59\n",
            "61\n",
            "67\n",
            "71\n",
            "73\n",
            "79\n",
            "83\n",
            "89\n",
            "97\n"
          ]
        }
      ]
    },
    {
      "cell_type": "code",
      "source": [
        "\n"
      ],
      "metadata": {
        "id": "99DKnU1NUWXy"
      },
      "execution_count": null,
      "outputs": []
    },
    {
      "cell_type": "code",
      "source": [],
      "metadata": {
        "colab": {
          "base_uri": "https://localhost:8080/"
        },
        "id": "30RO4X6qUiLT",
        "outputId": "3ccc4640-bcd7-4ae9-8176-0eae958c2864"
      },
      "execution_count": null,
      "outputs": [
        {
          "output_type": "stream",
          "name": "stdout",
          "text": [
            "0 x 13 = 0\n",
            "1 x 13 = 13\n",
            "2 x 13 = 26\n",
            "3 x 13 = 39\n",
            "4 x 13 = 52\n",
            "5 x 13 = 65\n",
            "6 x 13 = 78\n",
            "7 x 13 = 91\n",
            "8 x 13 = 104\n",
            "9 x 13 = 117\n",
            "10 x 13 = 130\n",
            "11 x 13 = 143\n",
            "12 x 13 = 156\n",
            "13 x 13 = 169\n",
            "14 x 13 = 182\n",
            "15 x 13 = 195\n",
            "16 x 13 = 208\n",
            "17 x 13 = 221\n",
            "18 x 13 = 234\n",
            "19 x 13 = 247\n",
            "20 x 13 = 260\n",
            "21 x 13 = 273\n",
            "22 x 13 = 286\n",
            "23 x 13 = 299\n",
            "24 x 13 = 312\n",
            "25 x 13 = 325\n",
            "26 x 13 = 338\n",
            "27 x 13 = 351\n",
            "28 x 13 = 364\n",
            "29 x 13 = 377\n",
            "30 x 13 = 390\n",
            "31 x 13 = 403\n",
            "32 x 13 = 416\n",
            "33 x 13 = 429\n",
            "34 x 13 = 442\n",
            "35 x 13 = 455\n",
            "36 x 13 = 468\n",
            "37 x 13 = 481\n",
            "38 x 13 = 494\n",
            "39 x 13 = 507\n",
            "40 x 13 = 520\n",
            "41 x 13 = 533\n",
            "42 x 13 = 546\n",
            "43 x 13 = 559\n",
            "44 x 13 = 572\n",
            "45 x 13 = 585\n",
            "46 x 13 = 598\n",
            "47 x 13 = 611\n",
            "48 x 13 = 624\n",
            "49 x 13 = 637\n",
            "50 x 13 = 650\n",
            "51 x 13 = 663\n",
            "52 x 13 = 676\n",
            "53 x 13 = 689\n",
            "54 x 13 = 702\n",
            "55 x 13 = 715\n",
            "56 x 13 = 728\n",
            "57 x 13 = 741\n",
            "58 x 13 = 754\n",
            "59 x 13 = 767\n",
            "60 x 13 = 780\n",
            "61 x 13 = 793\n",
            "62 x 13 = 806\n",
            "63 x 13 = 819\n",
            "64 x 13 = 832\n",
            "65 x 13 = 845\n",
            "66 x 13 = 858\n",
            "67 x 13 = 871\n",
            "68 x 13 = 884\n",
            "69 x 13 = 897\n",
            "70 x 13 = 910\n",
            "71 x 13 = 923\n",
            "72 x 13 = 936\n",
            "73 x 13 = 949\n",
            "74 x 13 = 962\n",
            "75 x 13 = 975\n",
            "76 x 13 = 988\n",
            "77 x 13 = 1001\n",
            "78 x 13 = 1014\n",
            "79 x 13 = 1027\n",
            "80 x 13 = 1040\n",
            "81 x 13 = 1053\n",
            "82 x 13 = 1066\n",
            "83 x 13 = 1079\n",
            "84 x 13 = 1092\n",
            "85 x 13 = 1105\n",
            "86 x 13 = 1118\n",
            "87 x 13 = 1131\n",
            "88 x 13 = 1144\n",
            "89 x 13 = 1157\n",
            "90 x 13 = 1170\n",
            "91 x 13 = 1183\n",
            "92 x 13 = 1196\n",
            "93 x 13 = 1209\n",
            "94 x 13 = 1222\n",
            "95 x 13 = 1235\n",
            "96 x 13 = 1248\n",
            "97 x 13 = 1261\n",
            "98 x 13 = 1274\n",
            "99 x 13 = 1287\n"
          ]
        }
      ]
    }
  ]
}