{
  "nbformat": 4,
  "nbformat_minor": 0,
  "metadata": {
    "colab": {
      "provenance": []
    },
    "kernelspec": {
      "name": "python3",
      "display_name": "Python 3"
    },
    "language_info": {
      "name": "python"
    }
  },
  "cells": [
    {
      "cell_type": "code",
      "execution_count": null,
      "metadata": {
        "colab": {
          "base_uri": "https://localhost:8080/"
        },
        "id": "tRWyay4b3BzB",
        "outputId": "fe160c67-dfd7-4ffd-8bb3-ad5a1674e814"
      },
      "outputs": [
        {
          "output_type": "stream",
          "name": "stdout",
          "text": [
            "we are learning data type. \"This is python program\"\n"
          ]
        }
      ],
      "source": [
        "str = 'we are learning data type. \"This is python program\"'\n",
        "print (str)"
      ]
    },
    {
      "cell_type": "code",
      "source": [
        "set1 = {1,2,3,'python', \"class\", '''2023'''}\n",
        "print (set1)"
      ],
      "metadata": {
        "colab": {
          "base_uri": "https://localhost:8080/"
        },
        "id": "RKVAOTbc6CMQ",
        "outputId": "1ee831fa-c57a-43d3-ce09-d10b21073219"
      },
      "execution_count": null,
      "outputs": [
        {
          "output_type": "stream",
          "name": "stdout",
          "text": [
            "{'class', 1, 2, 3, '2023', 'python'}\n"
          ]
        }
      ]
    },
    {
      "cell_type": "code",
      "source": [
        "str1 = 'Thisisdatatypeclassinpython'\n",
        "print (str1)\n",
        "\n",
        "str1[0:4:1],str1[4:6:1],str1[6:10:1],str1[10:14:1],str1[14:19:1],str1[19:21:1],str1[21:27:1]\n"
      ],
      "metadata": {
        "colab": {
          "base_uri": "https://localhost:8080/"
        },
        "id": "4xmTCF3__--3",
        "outputId": "f3603b0c-eb17-47d3-e5b1-c62cb400b2a0"
      },
      "execution_count": null,
      "outputs": [
        {
          "output_type": "stream",
          "name": "stdout",
          "text": [
            "Thisisdatatypeclassinpython\n"
          ]
        },
        {
          "output_type": "execute_result",
          "data": {
            "text/plain": [
              "('This', 'is', 'data', 'type', 'class', 'in', 'python')"
            ]
          },
          "metadata": {},
          "execution_count": 17
        }
      ]
    },
    {
      "cell_type": "code",
      "source": [
        "str1 = 'Thisisdatatype'\n",
        "\n",
        "\n",
        "str1[::]\n",
        "\n",
        "str1[0::]\n",
        "\n",
        "str1[:len(str1):]\n",
        "\n",
        "str1[:4:]\n",
        "\n",
        "str1[4:5]"
      ],
      "metadata": {
        "colab": {
          "base_uri": "https://localhost:8080/",
          "height": 38
        },
        "id": "um72mhSXJ6K5",
        "outputId": "d61fdaed-8e05-45c9-8acc-34844f4dd362"
      },
      "execution_count": null,
      "outputs": [
        {
          "output_type": "execute_result",
          "data": {
            "text/plain": [
              "'i'"
            ],
            "application/vnd.google.colaboratory.intrinsic+json": {
              "type": "string"
            }
          },
          "metadata": {},
          "execution_count": 20
        }
      ]
    },
    {
      "cell_type": "markdown",
      "source": [
        "Thursday August 10, 2023"
      ],
      "metadata": {
        "id": "ckADxQUCDCo_"
      }
    },
    {
      "cell_type": "code",
      "source": [
        "str1 ='Peppa prefer Python Programming'\n",
        "print (str1[:5])\n",
        "print (str1[6:12])\n",
        "print (str1[13:19])\n",
        "print (str1[20:])\n"
      ],
      "metadata": {
        "colab": {
          "base_uri": "https://localhost:8080/"
        },
        "id": "wXbRO1Uu52gV",
        "outputId": "8504492d-c16e-4515-cb68-3aa16566c36e"
      },
      "execution_count": null,
      "outputs": [
        {
          "output_type": "stream",
          "name": "stdout",
          "text": [
            "Peppa\n",
            "prefer\n",
            "Python\n",
            "Programming\n"
          ]
        }
      ]
    },
    {
      "cell_type": "code",
      "source": [
        "str1 ='StringSlicingPythonProgramming'\n",
        "str1[::1]\n",
        "str1[::-1]"
      ],
      "metadata": {
        "colab": {
          "base_uri": "https://localhost:8080/",
          "height": 35
        },
        "id": "Hm8munN-80v9",
        "outputId": "05b3f01d-b45e-4bc7-9d60-d5ea6760bf73"
      },
      "execution_count": null,
      "outputs": [
        {
          "output_type": "execute_result",
          "data": {
            "text/plain": [
              "'gnimmargorPnohtyPgnicilSgnirtS'"
            ],
            "application/vnd.google.colaboratory.intrinsic+json": {
              "type": "string"
            }
          },
          "metadata": {},
          "execution_count": 9
        }
      ]
    },
    {
      "cell_type": "code",
      "source": [
        "str1[-1:-12:-1], str1[-12:-18:-1], str1[-18:-25:-1], str1[-25:-31:-1]"
      ],
      "metadata": {
        "colab": {
          "base_uri": "https://localhost:8080/"
        },
        "id": "2sp2SYtx-jb8",
        "outputId": "ca0edf5a-1301-4082-a1b1-1030fffd237a"
      },
      "execution_count": null,
      "outputs": [
        {
          "output_type": "execute_result",
          "data": {
            "text/plain": [
              "('gnimmargorP', 'nohtyP', 'gnicilS', 'gnirtS')"
            ]
          },
          "metadata": {},
          "execution_count": 16
        }
      ]
    },
    {
      "cell_type": "code",
      "source": [
        "str1 = 'VenkataNarasimhaRajuvaripeta'\n",
        "print(str1[-22::-1]), print(str1[-13:-22:-1]), print(str1[-1:-13:-1])\n",
        "print(type(str1))\n",
        "print(len(str1))"
      ],
      "metadata": {
        "colab": {
          "base_uri": "https://localhost:8080/"
        },
        "id": "0JhW_tm2BzVh",
        "outputId": "19ba65e3-2618-4fa2-ddc5-d2b32b6cf410"
      },
      "execution_count": null,
      "outputs": [
        {
          "output_type": "stream",
          "name": "stdout",
          "text": [
            "atakneV\n",
            "ahmisaraN\n",
            "atepiravujaR\n",
            "<class 'str'>\n",
            "28\n"
          ]
        }
      ]
    },
    {
      "cell_type": "code",
      "source": [
        "str1 = 'VenkataNarasimhaRajuvaripeta'\n",
        "str1[6::-1], str1[15:6:-1], str1[27:15:-1]"
      ],
      "metadata": {
        "colab": {
          "base_uri": "https://localhost:8080/"
        },
        "id": "NEjWimTvD4oV",
        "outputId": "e633c6cc-f0cf-4571-e199-f076cbbdca8a"
      },
      "execution_count": null,
      "outputs": [
        {
          "output_type": "execute_result",
          "data": {
            "text/plain": [
              "('atakneV', 'ahmisaraN', 'atepiravujaR')"
            ]
          },
          "metadata": {},
          "execution_count": 35
        }
      ]
    },
    {
      "cell_type": "code",
      "source": [
        "str1 = 'VenkataNarasimhaRajuvaripeta'\n",
        "str1[-28:-21:1], str1[15:6:-1], str1[27:15:-1]"
      ],
      "metadata": {
        "colab": {
          "base_uri": "https://localhost:8080/"
        },
        "id": "fo-lf8n_FOzU",
        "outputId": "3337b23b-45f5-4edf-f3b9-b4f0bed55870"
      },
      "execution_count": null,
      "outputs": [
        {
          "output_type": "execute_result",
          "data": {
            "text/plain": [
              "('Venkata', 'ahmisaraN', 'atepiravujaR')"
            ]
          },
          "metadata": {},
          "execution_count": 40
        }
      ]
    },
    {
      "cell_type": "code",
      "source": [
        "str1 ='Peppa prefer Python Programming'\n",
        "str1[30:19:-1], str1[19:12:-1], str1[12:5:-1], str1[5::-1]"
      ],
      "metadata": {
        "colab": {
          "base_uri": "https://localhost:8080/"
        },
        "id": "bNeSa9WGF0Cd",
        "outputId": "f4000619-9fd8-426e-b66c-cb04c61b91f7"
      },
      "execution_count": null,
      "outputs": [
        {
          "output_type": "execute_result",
          "data": {
            "text/plain": [
              "('gnimmargorP', ' nohtyP', ' referp', ' appeP')"
            ]
          },
          "metadata": {},
          "execution_count": 47
        }
      ]
    },
    {
      "cell_type": "code",
      "source": [
        "str1 = 'SrinivasaRamanujanAiyangar'\n",
        "str1[-26:-17:1], str1[-17:-9:1], str1[-8::1]"
      ],
      "metadata": {
        "colab": {
          "base_uri": "https://localhost:8080/"
        },
        "id": "vbyTAd-cJk6g",
        "outputId": "193c1ca9-b485-4d0e-adfb-06a302ff3ddc"
      },
      "execution_count": null,
      "outputs": [
        {
          "output_type": "execute_result",
          "data": {
            "text/plain": [
              "('Srinivasa', 'Ramanuja', 'Aiyangar')"
            ]
          },
          "metadata": {},
          "execution_count": 50
        }
      ]
    },
    {
      "cell_type": "code",
      "source": [
        "str1 = 'VenkataNarasimhaRajuvaripeta'\n",
        "str1[-28:-21:1], str1[-21:-12:1], str1[-12::1]"
      ],
      "metadata": {
        "colab": {
          "base_uri": "https://localhost:8080/"
        },
        "id": "1vPuf4J2KhdX",
        "outputId": "0d2f16cc-f952-41a3-a0f1-4e9eca824051"
      },
      "execution_count": null,
      "outputs": [
        {
          "output_type": "execute_result",
          "data": {
            "text/plain": [
              "('Venkata', 'Narasimha', 'Rajuvaripeta')"
            ]
          },
          "metadata": {},
          "execution_count": 56
        }
      ]
    },
    {
      "cell_type": "code",
      "source": [
        "lst1 = ['apple','Banana','Cherries','dates','eggfruit','fig','grapes','honeyfruit','icefruit']\n",
        "print(lst1)\n",
        "print(type(lst1))"
      ],
      "metadata": {
        "colab": {
          "base_uri": "https://localhost:8080/"
        },
        "id": "pecclvWBNiM_",
        "outputId": "f3a45fc5-0ca4-4f1e-f05f-4db23c3220f1"
      },
      "execution_count": null,
      "outputs": [
        {
          "output_type": "stream",
          "name": "stdout",
          "text": [
            "['apple', 'Banana', 'Cherries', 'dates', 'eggfruit', 'fig', 'grapes', 'honeyfruit', 'icefruit']\n",
            "<class 'list'>\n"
          ]
        }
      ]
    },
    {
      "cell_type": "code",
      "source": [
        "lst1[0], lst1[1], lst1[2], lst1[3], lst1[4], lst1[5], lst1[6], lst1[7]"
      ],
      "metadata": {
        "colab": {
          "base_uri": "https://localhost:8080/"
        },
        "id": "EbYHJox8OFr3",
        "outputId": "bd1441b1-01b8-4858-e5bf-cc38480d1baa"
      },
      "execution_count": null,
      "outputs": [
        {
          "output_type": "execute_result",
          "data": {
            "text/plain": [
              "('apple',\n",
              " 'Banana',\n",
              " 'Cherries',\n",
              " 'dates',\n",
              " 'eggfruit',\n",
              " 'fig',\n",
              " 'grapes',\n",
              " 'honeyfruit')"
            ]
          },
          "metadata": {},
          "execution_count": 58
        }
      ]
    },
    {
      "cell_type": "code",
      "source": [
        "lst1[::]"
      ],
      "metadata": {
        "colab": {
          "base_uri": "https://localhost:8080/"
        },
        "id": "4NSmWF6DOhpe",
        "outputId": "78233372-e5ec-483e-c8a0-9dcae0872a4e"
      },
      "execution_count": null,
      "outputs": [
        {
          "output_type": "execute_result",
          "data": {
            "text/plain": [
              "['apple',\n",
              " 'Banana',\n",
              " 'Cherries',\n",
              " 'dates',\n",
              " 'eggfruit',\n",
              " 'fig',\n",
              " 'grapes',\n",
              " 'honeyfruit',\n",
              " 'icefruit']"
            ]
          },
          "metadata": {},
          "execution_count": 60
        }
      ]
    },
    {
      "cell_type": "code",
      "source": [
        "lst1 = ['Blue', 'Green', 'Yellow', 'Red', 'Black', 'Purple','Green','Pink','Orange','Brown']\n",
        "print(lst1[::])\n",
        "print(lst1[::-1])\n",
        "print(lst1[9:1:-1])\n",
        "print(lst1[-10:-1:1])\n",
        "print(lst1[1:9:1])\n",
        "print(lst1[-1:-10:-1])"
      ],
      "metadata": {
        "colab": {
          "base_uri": "https://localhost:8080/"
        },
        "id": "NaXpyWLaP8y7",
        "outputId": "2557feeb-d3b2-4e36-8255-51335414cf3d"
      },
      "execution_count": null,
      "outputs": [
        {
          "output_type": "stream",
          "name": "stdout",
          "text": [
            "['Blue', 'Green', 'Yellow', 'Red', 'Black', 'Purple', 'Green', 'Pink', 'Orange', 'Brown']\n",
            "['Brown', 'Orange', 'Pink', 'Green', 'Purple', 'Black', 'Red', 'Yellow', 'Green', 'Blue']\n",
            "['Brown', 'Orange', 'Pink', 'Green', 'Purple', 'Black', 'Red', 'Yellow']\n",
            "['Blue', 'Green', 'Yellow', 'Red', 'Black', 'Purple', 'Green', 'Pink', 'Orange']\n",
            "['Green', 'Yellow', 'Red', 'Black', 'Purple', 'Green', 'Pink', 'Orange']\n",
            "['Brown', 'Orange', 'Pink', 'Green', 'Purple', 'Black', 'Red', 'Yellow', 'Green']\n"
          ]
        }
      ]
    },
    {
      "cell_type": "code",
      "source": [
        "tpl1 = ('Blue', 'Green', 'Yellow', 'Red', 'Black', 'Purple','Green','Pink','Orange','Brown')\n",
        "print(tpl1[::])\n",
        "print(tpl1[::-1])\n",
        "print(tpl1[9:1:-1])\n",
        "print(tpl1[-10:-1:1])\n",
        "print(tpl1[1:9:1])\n",
        "print(tpl1[-1:-10:-1])"
      ],
      "metadata": {
        "colab": {
          "base_uri": "https://localhost:8080/"
        },
        "id": "iRYIqmv3S0Pd",
        "outputId": "d53f4401-74c0-4e11-b1f5-10cb466b62bc"
      },
      "execution_count": null,
      "outputs": [
        {
          "output_type": "stream",
          "name": "stdout",
          "text": [
            "('Blue', 'Green', 'Yellow', 'Red', 'Black', 'Purple', 'Green', 'Pink', 'Orange', 'Brown')\n",
            "('Brown', 'Orange', 'Pink', 'Green', 'Purple', 'Black', 'Red', 'Yellow', 'Green', 'Blue')\n",
            "('Brown', 'Orange', 'Pink', 'Green', 'Purple', 'Black', 'Red', 'Yellow')\n",
            "('Blue', 'Green', 'Yellow', 'Red', 'Black', 'Purple', 'Green', 'Pink', 'Orange')\n",
            "('Green', 'Yellow', 'Red', 'Black', 'Purple', 'Green', 'Pink', 'Orange')\n",
            "('Brown', 'Orange', 'Pink', 'Green', 'Purple', 'Black', 'Red', 'Yellow', 'Green')\n"
          ]
        }
      ]
    }
  ]
}