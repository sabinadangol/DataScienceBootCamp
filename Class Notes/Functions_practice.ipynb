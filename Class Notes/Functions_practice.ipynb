{
  "nbformat": 4,
  "nbformat_minor": 0,
  "metadata": {
    "colab": {
      "provenance": []
    },
    "kernelspec": {
      "name": "python3",
      "display_name": "Python 3"
    },
    "language_info": {
      "name": "python"
    }
  },
  "cells": [
    {
      "cell_type": "markdown",
      "source": [
        "1) Write a Python Function that accepts a hyphen-separated sequence of words as input and prints the words in a hyphen-separated sequence after sorting them alphabetically.\n",
        "Sample Items : green-red-yellow-black-white\n",
        "Expected Result : black-green-red-white-yellow"
      ],
      "metadata": {
        "id": "L9oN9k1uPRa9"
      }
    },
    {
      "cell_type": "code",
      "execution_count": 1,
      "metadata": {
        "id": "OVFAIZ6xJEPV",
        "colab": {
          "base_uri": "https://localhost:8080/"
        },
        "outputId": "e396f3c5-20ea-4435-bf45-0faf80954eaa"
      },
      "outputs": [
        {
          "output_type": "stream",
          "name": "stdout",
          "text": [
            "Sorted list  ['black', 'green', 'red', 'white', 'yellow']\n",
            "black-green-red-white-yellow\n"
          ]
        }
      ],
      "source": [
        "def sort_the_string(words_str):\n",
        "  words_list=words_str.split(\"-\")\n",
        "  sorted_list=sorted(words_list)\n",
        "  str_out=\"\"\n",
        "  print(\"Sorted list \",sorted_list)\n",
        "  # for k in sorted_list:\n",
        "  #   if len(str_out)==0:\n",
        "  #     str_out=k\n",
        "  #   else:\n",
        "  #     str_out=str_out+\"-\"+k\n",
        "  #   print(k)\n",
        "  #   print(str_out)\n",
        "  #   print(\"======================\")\n",
        "  print(\"-\".join(sorted_list))\n",
        "\n",
        "sort_the_string(\"green-red-yellow-black-white\")"
      ]
    },
    {
      "cell_type": "markdown",
      "source": [
        "2)  Write a function that accepts a string and count consonant and vowels in that string"
      ],
      "metadata": {
        "id": "aSJkywr4NK97"
      }
    },
    {
      "cell_type": "code",
      "source": [
        "def counts(input_str):\n",
        "  vowels = \"aeiouAEIOU\"\n",
        "\n",
        "  vowel_count = 0\n",
        "  consonant_count = 0\n",
        "\n",
        "  for char in input_str:\n",
        "      if char in vowels:\n",
        "          vowel_count += 1\n",
        "      else:\n",
        "          consonant_count += 1\n",
        "\n",
        "  return vowel_count, consonant_count"
      ],
      "metadata": {
        "id": "dpfGUp38NJ4F"
      },
      "execution_count": null,
      "outputs": []
    },
    {
      "cell_type": "code",
      "source": [
        "user_input = input(\"Enter a string: \")\n",
        "vowels, consonants = counts(user_input)\n",
        "print(\"Number of vowels:\", vowels)\n",
        "print(\"Number of consonants:\", consonants)"
      ],
      "metadata": {
        "colab": {
          "base_uri": "https://localhost:8080/"
        },
        "id": "fN7Lu2d2OAS7",
        "outputId": "1ecd1852-4dce-483c-f8ba-e2eb022d9241"
      },
      "execution_count": null,
      "outputs": [
        {
          "output_type": "stream",
          "name": "stdout",
          "text": [
            "Enter a string: inspiron\n",
            "Number of vowels: 3\n",
            "Number of consonants: 5\n"
          ]
        }
      ]
    },
    {
      "cell_type": "markdown",
      "source": [
        "Write a Python function to check whether a number is \"Perfect\" or not.\n",
        "According to Wikipedia : In number theory, a perfect number is a positive integer that is equal to the sum of its proper positive divisors, that is, the sum of its positive divisors excluding the number itself (also known as its aliquot sum). Equivalently, a perfect number is a number that is half the sum of all of its positive divisors (including itself).\n",
        "Example : The first perfect number is 6, because 1, 2, and 3 are its proper positive divisors, and 1 + 2 + 3 = 6. Equivalently, the number 6 is equal to half the sum of all its positive divisors: ( 1 + 2 + 3 + 6 ) / 2 = 6. The next perfect number is 28 = 1 + 2 + 4 + 7 + 14. This is followed by the perfect numbers 496 and 8128."
      ],
      "metadata": {
        "id": "QszuaRyTO-W7"
      }
    },
    {
      "cell_type": "code",
      "source": [
        "def perf_num(number):\n",
        "  if number <= 0:\n",
        "        return False\n",
        "\n",
        "  div_sum = 0\n",
        "  for i in range(1, number):\n",
        "      if number % i == 0:\n",
        "            div_sum += i\n",
        "\n",
        "  return div_sum == number\n",
        "\n",
        "user_input = int(input(\"Enter a number: \"))\n",
        "if perf_num(user_input):\n",
        "    print(user_input, \"is a perfect number.\")\n",
        "else:\n",
        "    print(user_input, \"is not a perfect number.\")"
      ],
      "metadata": {
        "colab": {
          "base_uri": "https://localhost:8080/"
        },
        "id": "GlX0sZd8O8_E",
        "outputId": "8c9d2e31-ba8d-420a-ab52-16751d4682bc"
      },
      "execution_count": null,
      "outputs": [
        {
          "output_type": "stream",
          "name": "stdout",
          "text": [
            "Enter a number: 496\n",
            "496 is a perfect number.\n"
          ]
        }
      ]
    },
    {
      "cell_type": "markdown",
      "source": [
        "4) Write a program to print twin primes less than 1000. If two consecutive odd numbers are both prime then they are known as twin primes"
      ],
      "metadata": {
        "id": "6aR8Fn--UVmz"
      }
    },
    {
      "cell_type": "code",
      "source": [
        "#Logical breaking\n",
        "#first part is we have to iterate till 1000\n",
        "#2nd part only check for odd numbers\n",
        "#both numbers should be prime\n",
        "\n",
        "n=int(input(\"Enter the max range: \"))\n",
        "\n",
        "def check_prime_number(num):\n",
        "  for i in range(2,num):\n",
        "    if num%i==0:\n",
        "      return False\n",
        "  return True\n",
        "\n",
        "def print_prime_pairs(n):\n",
        "  for k in range(3,n,2):\n",
        "    if check_prime_number(k) and check_prime_number(k+2):\n",
        "      print(\"Pair Prime Numbers\",k,k+2)\n",
        "\n",
        "check_prime_number(n)\n"
      ],
      "metadata": {
        "id": "we_ehM6PUh9j",
        "colab": {
          "base_uri": "https://localhost:8080/"
        },
        "outputId": "53d101a5-a686-47a9-d236-8076452282cb"
      },
      "execution_count": 11,
      "outputs": [
        {
          "name": "stdout",
          "output_type": "stream",
          "text": [
            "Enter the max range: 20\n"
          ]
        },
        {
          "output_type": "execute_result",
          "data": {
            "text/plain": [
              "False"
            ]
          },
          "metadata": {},
          "execution_count": 11
        }
      ]
    },
    {
      "cell_type": "code",
      "source": [
        "n=int(input(\"Enter the Max Range :- \"))\n",
        "\n",
        "def check_prime_number(num):\n",
        "  for i in range(2,num):\n",
        "    if num%i==0:\n",
        "      return False\n",
        "  return True\n",
        "\n",
        "\n",
        "def print_prime_pairs(n):\n",
        "  # We start from 3 which is first odd prime number and jump 2 places each for next odd number\n",
        "  for k in range(3,n,2):\n",
        "    if check_prime_number(k) and check_prime_number(k+2):\n",
        "      print(\"Pair Prime Numbers\",k,k+2)\n",
        "\n",
        "print_prime_pairs(n)"
      ],
      "metadata": {
        "colab": {
          "base_uri": "https://localhost:8080/"
        },
        "id": "eEvTZMRPSaMW",
        "outputId": "ed289a37-874b-4aad-a18d-827c58364ad6"
      },
      "execution_count": 10,
      "outputs": [
        {
          "output_type": "stream",
          "name": "stdout",
          "text": [
            "Enter the Max Range :- 20\n",
            "Pair Prime Numbers 3 5\n",
            "Pair Prime Numbers 5 7\n",
            "Pair Prime Numbers 11 13\n",
            "Pair Prime Numbers 17 19\n"
          ]
        }
      ]
    },
    {
      "cell_type": "markdown",
      "source": [
        "Write a program to find out the prime factorization of a number. Example: prime factorization  of 56 2 × 2 × 2 × 7"
      ],
      "metadata": {
        "id": "oI9IVwk2aw0h"
      }
    },
    {
      "cell_type": "code",
      "source": [
        "#we will divide the number until it becomes 1\n",
        "\n",
        "n=int(input(\"Enter the number for prime factorization: \"))\n",
        "\n",
        "def prime_factors(num):\n",
        "  factors=[]\n",
        "  divisor=2\n",
        "  while num>1:\n",
        "    print(num,divisor)\n",
        "    while num%divisor==0:\n",
        "      num=num/divisor\n",
        "      factors.append(str(divisor))\n",
        "    divisor=divisor+1\n",
        "  return factors\n",
        "\n",
        "def show_prime_factorization(n):\n",
        "  factors=prime_factors(n)\n",
        "  return 'x'.join(factors)  #join functions only works on string\n",
        "\n",
        "show_prime_factorization(n)"
      ],
      "metadata": {
        "colab": {
          "base_uri": "https://localhost:8080/",
          "height": 157
        },
        "id": "PAwYCKt0Spad",
        "outputId": "f34669d5-da0c-41cf-e06a-45a667d7689d"
      },
      "execution_count": 14,
      "outputs": [
        {
          "output_type": "stream",
          "name": "stdout",
          "text": [
            "Enter the number for prime factorization: 56\n",
            "56 2\n",
            "7.0 3\n",
            "7.0 4\n",
            "7.0 5\n",
            "7.0 6\n",
            "7.0 7\n"
          ]
        },
        {
          "output_type": "execute_result",
          "data": {
            "text/plain": [
              "'2x2x2x7'"
            ],
            "application/vnd.google.colaboratory.intrinsic+json": {
              "type": "string"
            }
          },
          "metadata": {},
          "execution_count": 14
        }
      ]
    },
    {
      "cell_type": "markdown",
      "source": [
        "Two different numbers are called amicable numbers if the sum of the proper divisors of each is equal to the other number. For example 220 and 284 are amicable numbers."
      ],
      "metadata": {
        "id": "Ykd-Duifa0j_"
      }
    },
    {
      "cell_type": "code",
      "source": [
        "n=int(input(\"Enter the Number for prime factorization\"))\n",
        "\n",
        "def prime_factors(num):\n",
        "  factors=[]\n",
        "  divisor=2\n",
        "  while num>1:\n",
        "    while num%divisor==0:\n",
        "      num=num/divisor\n",
        "      factors.append(str(divisor))\n",
        "    divisor=divisor+1\n",
        "  return factors\n",
        "\n",
        "def show_prime_factorization(n):\n",
        "  factors=prime_factors(n)\n",
        "  return \"x\".join(factors)\n",
        "\n",
        "show_prime_factorization(83)"
      ],
      "metadata": {
        "colab": {
          "base_uri": "https://localhost:8080/",
          "height": 52
        },
        "id": "P3Vw0VijXX7U",
        "outputId": "bc79f02b-7bc9-4410-d52b-6272fa14f227"
      },
      "execution_count": 15,
      "outputs": [
        {
          "name": "stdout",
          "output_type": "stream",
          "text": [
            "Enter the Number for prime factorization56\n"
          ]
        },
        {
          "output_type": "execute_result",
          "data": {
            "text/plain": [
              "'83'"
            ],
            "application/vnd.google.colaboratory.intrinsic+json": {
              "type": "string"
            }
          },
          "metadata": {},
          "execution_count": 15
        }
      ]
    },
    {
      "cell_type": "markdown",
      "source": [
        "1) Swap first and last element of the list\n",
        "\n",
        "a=[1,2,5,10,'1']"
      ],
      "metadata": {
        "id": "4DYud6Vlc_T6"
      }
    },
    {
      "cell_type": "code",
      "source": [
        "def swap(lst):\n",
        "    if len(lst) >= 2:\n",
        "        lst[0], lst[-1] = lst[-1], lst[0]\n",
        "\n",
        "a = [1, 2, 5, 10, '1']\n",
        "swap(a)\n",
        "print(a)\n",
        "\n"
      ],
      "metadata": {
        "colab": {
          "base_uri": "https://localhost:8080/"
        },
        "id": "VbQLUAModB0T",
        "outputId": "f5325aa5-dbba-4dc6-b27b-93c13fda7ee7"
      },
      "execution_count": 17,
      "outputs": [
        {
          "output_type": "stream",
          "name": "stdout",
          "text": [
            "['1', 2, 5, 10, 1]\n"
          ]
        }
      ]
    },
    {
      "cell_type": "code",
      "source": [
        "a=[1,2,5,10,'1']\n",
        "# remove functions work on values which we might not know\n",
        "# pop works at indexs more suitable\n",
        "# clear removes everything from list which is not suggested\n",
        "def swap_elements(list_temp):\n",
        "  first=list_temp.pop(0)\n",
        "  last=list_temp.pop(-1)\n",
        "  list_temp.insert(0,last)\n",
        "  list_temp.append(first)\n",
        "\n",
        "swap_elements(a.copy())\n",
        "print(a)"
      ],
      "metadata": {
        "colab": {
          "base_uri": "https://localhost:8080/"
        },
        "id": "ZQ_xz-ecgjV0",
        "outputId": "385d9374-3f23-486a-e215-a27ce77cde64"
      },
      "execution_count": 19,
      "outputs": [
        {
          "output_type": "stream",
          "name": "stdout",
          "text": [
            "[1, 2, 5, 10, '1']\n"
          ]
        }
      ]
    }
  ]
}