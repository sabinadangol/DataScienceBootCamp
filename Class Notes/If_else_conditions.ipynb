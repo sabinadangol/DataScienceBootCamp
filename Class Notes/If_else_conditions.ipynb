{
  "nbformat": 4,
  "nbformat_minor": 0,
  "metadata": {
    "colab": {
      "provenance": []
    },
    "kernelspec": {
      "name": "python3",
      "display_name": "Python 3"
    },
    "language_info": {
      "name": "python"
    }
  },
  "cells": [
    {
      "cell_type": "code",
      "execution_count": null,
      "metadata": {
        "colab": {
          "base_uri": "https://localhost:8080/"
        },
        "id": "sZvIIOh_jNr-",
        "outputId": "047064a6-c3a9-4989-ac08-46d9ce28ded5"
      },
      "outputs": [
        {
          "output_type": "stream",
          "name": "stdout",
          "text": [
            "The number is divisible by 7\n"
          ]
        }
      ],
      "source": [
        "#1) check if a number is divisible by 7 or not\n",
        "\n",
        "num = 70\n",
        "if num % 7 == 0:\n",
        "  print('The number is divisible by 7')\n",
        "else:\n",
        "  print('The number is not divisible by 7')\n"
      ]
    },
    {
      "cell_type": "code",
      "source": [
        "#2) Write a program to print hello if number is multiple of five or 3 else print bye\n",
        "\n",
        "num = 30\n",
        "if num%5 == 0 or num%3 == 0:\n",
        "  print('Hello')\n",
        "else:\n",
        "  print('Bye')"
      ],
      "metadata": {
        "colab": {
          "base_uri": "https://localhost:8080/"
        },
        "id": "Y4ElUpwSm9Bc",
        "outputId": "a4a52f3b-2eb3-4aba-e58a-a49d6309b662"
      },
      "execution_count": null,
      "outputs": [
        {
          "output_type": "stream",
          "name": "stdout",
          "text": [
            "Bye\n"
          ]
        }
      ]
    },
    {
      "cell_type": "code",
      "source": [
        "# user input Function\n",
        "\n",
        "input_message=input('Please input a number:')\n",
        "print(input_message)\n",
        "print(type(input_message))"
      ],
      "metadata": {
        "colab": {
          "base_uri": "https://localhost:8080/"
        },
        "id": "LgxtahJxr6eS",
        "outputId": "17231fa1-7f92-4af7-af53-7c2fa4ab763c"
      },
      "execution_count": null,
      "outputs": [
        {
          "output_type": "stream",
          "name": "stdout",
          "text": [
            "Please input a number:5\n",
            "5\n",
            "<class 'str'>\n"
          ]
        }
      ]
    },
    {
      "cell_type": "code",
      "source": [
        "#Write a python program that will check for the following conditions:\n",
        "#If the light is green – Car is allowed to go\n",
        "#If the light is yellow – Car has to wait\n",
        "#If the light is red – Car has to stop\n",
        "#Other signal – unrecognized signal. Example black, blue, etc…\n",
        "\n",
        "input_color = input(\"Enter a color: \").title()\n",
        "if input_color == \"Green\":\n",
        "  print(\"Car is allowed to go\")\n",
        "elif input_color == \"Yellow\":\n",
        "  print(\"Car has to wait\")\n",
        "elif input_color == \"Red\":\n",
        "  print(\"Car has to stop\")\n",
        "else:\n",
        "  print(\"unrecognized signal.\")"
      ],
      "metadata": {
        "colab": {
          "base_uri": "https://localhost:8080/"
        },
        "id": "xDFnRW-CuVC7",
        "outputId": "ab8ccb25-d188-4208-a574-2622184f209b"
      },
      "execution_count": null,
      "outputs": [
        {
          "output_type": "stream",
          "name": "stdout",
          "text": [
            "Enter a color: red\n",
            "Car has to stop\n"
          ]
        }
      ]
    },
    {
      "cell_type": "code",
      "source": [
        "input_color = input(\"Enter a color: \").lower()\n",
        "if input_color == \"green\":\n",
        "  print(\"Car is allowed to go!\")\n",
        "elif input_color == \"yellow\":\n",
        "  print(\"Car has to wait!\")\n",
        "elif input_color == \"red\":\n",
        "  print(\"Car has to stop!\")\n",
        "else:\n",
        "  print(\"unrecognized signal!\")"
      ],
      "metadata": {
        "colab": {
          "base_uri": "https://localhost:8080/"
        },
        "id": "BqeNWOK7x2Zg",
        "outputId": "72a3a128-d85b-4689-b80b-cd0e0ef6b1e0"
      },
      "execution_count": null,
      "outputs": [
        {
          "output_type": "stream",
          "name": "stdout",
          "text": [
            "Enter a color: YELLOW\n",
            "Car has to wait\n"
          ]
        }
      ]
    },
    {
      "cell_type": "markdown",
      "source": [
        "Write a program to trace your subject mark. Your program should fulfill the following conditions:\n",
        "\n",
        "If the subject mark is below 0 and above 100, print “error: mark should be between 0 and 100 only”\n",
        "Students will fail in the subject if their mark is below 50.\n",
        "Students will pass in the subject if they score 50 and above.\n",
        "If subject mark is between 50 and 60, grade student as good.\n",
        "If subject mark is between 60 and 80, grade student as very good.\n",
        "If subject mark is between 80 and 100, grade student as outstanding.\n",
        "\n",
        "Make sure to print their mark in every statement to prove that the condition is fulfilled. Moreover, name, class, and section should be also displayed along with the marks."
      ],
      "metadata": {
        "id": "wfgYEtoOyRWa"
      }
    },
    {
      "cell_type": "code",
      "source": [
        "Name = input(\"Enter Student's Name: \")\n",
        "Class = input(\"Enter Student's Class: \")\n",
        "Section = input(\"Enter Student's Section: \")\n",
        "marks = float (input(\"Enter student's Marks: \"))\n",
        "\n",
        "if marks<0 or marks>100:\n",
        "  print(\"error: mark should be between 0 and 100 only\")\n",
        "elif marks<50:\n",
        "  print(\"Fail\")\n",
        "elif marks>=50:\n",
        "  print(\"Pass\", marks)\n",
        "  if marks>=50 and marks<=60:\n",
        "   print(\"Good\", marks)\n",
        "  elif marks>=60 and marks<=80:\n",
        "    print(\"Very Good\", marks)\n",
        "  elif marks>=80 and marks<=100:\n",
        "   print(\"Outstanding\", marks)\n",
        "\n",
        "print(\"Name:\",Name)\n",
        "print(\"Class:\",Class)\n",
        "print(\"Section:\",Section)\n",
        "\n"
      ],
      "metadata": {
        "colab": {
          "base_uri": "https://localhost:8080/"
        },
        "id": "P2oswS6LyS9P",
        "outputId": "92c35979-86c2-4bc9-e06c-10566c72df7b"
      },
      "execution_count": null,
      "outputs": [
        {
          "output_type": "stream",
          "name": "stdout",
          "text": [
            "Enter Student's Name: Sabina\n",
            "Enter Student's Class: 8\n",
            "Enter Student's Section: A\n",
            "Enter student's Marks: 89\n",
            "Pass 89.0\n",
            "Outstanding 89.0\n",
            "Name: Sabina\n",
            "Class: 8\n",
            "Section: A\n"
          ]
        }
      ]
    }
  ]
}