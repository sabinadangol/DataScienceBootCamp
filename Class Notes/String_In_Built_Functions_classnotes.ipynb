{
  "nbformat": 4,
  "nbformat_minor": 0,
  "metadata": {
    "colab": {
      "provenance": []
    },
    "kernelspec": {
      "name": "python3",
      "display_name": "Python 3"
    },
    "language_info": {
      "name": "python"
    }
  },
  "cells": [
    {
      "cell_type": "code",
      "execution_count": null,
      "metadata": {
        "colab": {
          "base_uri": "https://localhost:8080/"
        },
        "id": "kknPMIYBShOT",
        "outputId": "84e8bd20-63b7-49ce-eb29-4232dfec6513"
      },
      "outputs": [
        {
          "output_type": "stream",
          "name": "stdout",
          "text": [
            "hlowrd\n"
          ]
        },
        {
          "output_type": "execute_result",
          "data": {
            "text/plain": [
              "['__add__',\n",
              " '__class__',\n",
              " '__contains__',\n",
              " '__delattr__',\n",
              " '__dir__',\n",
              " '__doc__',\n",
              " '__eq__',\n",
              " '__format__',\n",
              " '__ge__',\n",
              " '__getattribute__',\n",
              " '__getitem__',\n",
              " '__getnewargs__',\n",
              " '__gt__',\n",
              " '__hash__',\n",
              " '__init__',\n",
              " '__init_subclass__',\n",
              " '__iter__',\n",
              " '__le__',\n",
              " '__len__',\n",
              " '__lt__',\n",
              " '__mod__',\n",
              " '__mul__',\n",
              " '__ne__',\n",
              " '__new__',\n",
              " '__reduce__',\n",
              " '__reduce_ex__',\n",
              " '__repr__',\n",
              " '__rmod__',\n",
              " '__rmul__',\n",
              " '__setattr__',\n",
              " '__sizeof__',\n",
              " '__str__',\n",
              " '__subclasshook__',\n",
              " 'capitalize',\n",
              " 'casefold',\n",
              " 'center',\n",
              " 'count',\n",
              " 'encode',\n",
              " 'endswith',\n",
              " 'expandtabs',\n",
              " 'find',\n",
              " 'format',\n",
              " 'format_map',\n",
              " 'index',\n",
              " 'isalnum',\n",
              " 'isalpha',\n",
              " 'isascii',\n",
              " 'isdecimal',\n",
              " 'isdigit',\n",
              " 'isidentifier',\n",
              " 'islower',\n",
              " 'isnumeric',\n",
              " 'isprintable',\n",
              " 'isspace',\n",
              " 'istitle',\n",
              " 'isupper',\n",
              " 'join',\n",
              " 'ljust',\n",
              " 'lower',\n",
              " 'lstrip',\n",
              " 'maketrans',\n",
              " 'partition',\n",
              " 'removeprefix',\n",
              " 'removesuffix',\n",
              " 'replace',\n",
              " 'rfind',\n",
              " 'rindex',\n",
              " 'rjust',\n",
              " 'rpartition',\n",
              " 'rsplit',\n",
              " 'rstrip',\n",
              " 'split',\n",
              " 'splitlines',\n",
              " 'startswith',\n",
              " 'strip',\n",
              " 'swapcase',\n",
              " 'title',\n",
              " 'translate',\n",
              " 'upper',\n",
              " 'zfill']"
            ]
          },
          "metadata": {},
          "execution_count": 3
        }
      ],
      "source": [
        "temp_str = \"hello world\"\n",
        "print(temp_str[::2])\n",
        "\n",
        "dir(temp_str)\n"
      ]
    },
    {
      "cell_type": "code",
      "source": [
        "print(temp_str.capitalize())"
      ],
      "metadata": {
        "colab": {
          "base_uri": "https://localhost:8080/"
        },
        "id": "Di5gwhSbTZ3b",
        "outputId": "b54bcd08-fadb-4e30-ddec-0722c5e2de4a"
      },
      "execution_count": null,
      "outputs": [
        {
          "output_type": "stream",
          "name": "stdout",
          "text": [
            "Hello world\n"
          ]
        }
      ]
    },
    {
      "cell_type": "code",
      "source": [
        "temp_str = 'Hello WorLD'\n",
        "print (temp_str.casefold())"
      ],
      "metadata": {
        "colab": {
          "base_uri": "https://localhost:8080/"
        },
        "id": "8WkymM2yUeSW",
        "outputId": "1e7d39b3-474a-4309-eb90-247a6ed6a6d0"
      },
      "execution_count": null,
      "outputs": [
        {
          "output_type": "stream",
          "name": "stdout",
          "text": [
            "hello world\n"
          ]
        }
      ]
    },
    {
      "cell_type": "code",
      "source": [
        "#increases length of string by adding\n",
        "temp_str = \"hello WorLD\"\n",
        "print(temp_str.center(15,\"*\") )"
      ],
      "metadata": {
        "colab": {
          "base_uri": "https://localhost:8080/"
        },
        "id": "nFw8OTgdVIG6",
        "outputId": "1e8fc373-d317-417d-a332-847eb5c7ea20"
      },
      "execution_count": null,
      "outputs": [
        {
          "output_type": "stream",
          "name": "stdout",
          "text": [
            "**hello WorLD**\n"
          ]
        }
      ]
    },
    {
      "cell_type": "code",
      "source": [
        "#Returns how many times the substring appears in the given range by default picks full string\n",
        "#Count function is case sensitive\n",
        "temp_str = \"Hello WorLD how is it going?hello all good\".casefold()\n",
        "print(temp_str.count(\"hello\"))\n",
        "print (temp_str)\n",
        "print(temp_str.count(\"Hello\"))\n",
        "\n",
        "#how to give range\n",
        "#count (value,start,end) start and end are optional otherwise it will  take the full string\n",
        "\n",
        "print(temp_str[2:5])\n",
        "print(temp_str.count(\" hello \",2))"
      ],
      "metadata": {
        "colab": {
          "base_uri": "https://localhost:8080/"
        },
        "id": "Y9sk8JdmWsa2",
        "outputId": "f7367f43-5f61-4fc8-b861-761c6edf6509"
      },
      "execution_count": null,
      "outputs": [
        {
          "output_type": "stream",
          "name": "stdout",
          "text": [
            "2\n",
            "hello world how is it going?hello all good\n",
            "0\n",
            "llo\n",
            "0\n"
          ]
        }
      ]
    },
    {
      "cell_type": "code",
      "source": [
        "#returns True and False on the basis of suffix passed.\n",
        "temp_str =\"HeLLo Workd how is it going? Hello all good!\"\n",
        "#endswith(value,start,end)\n",
        "print(temp_str.endswith('Lo'))\n",
        "print(temp_str.endswith('d!'))\n",
        "print(temp_str.endswith(\"good\",0,len(temp_str)-1))"
      ],
      "metadata": {
        "colab": {
          "base_uri": "https://localhost:8080/"
        },
        "id": "UCuTbnHybR6q",
        "outputId": "61dac5c9-32cc-46e0-aee7-0f9113fdf0dd"
      },
      "execution_count": null,
      "outputs": [
        {
          "output_type": "stream",
          "name": "stdout",
          "text": [
            "False\n",
            "True\n",
            "True\n"
          ]
        }
      ]
    },
    {
      "cell_type": "code",
      "source": [
        "#returns lowest index of the substring if found else returns -1\n",
        "#temp_str\n",
        "print(temp_str.find(\"how\"))\n",
        "print(temp_str.find(\"howsfffgh\"))"
      ],
      "metadata": {
        "colab": {
          "base_uri": "https://localhost:8080/"
        },
        "id": "hsUHzrgcbuqd",
        "outputId": "3b9047f0-9617-42ee-e1a8-26352e342923"
      },
      "execution_count": null,
      "outputs": [
        {
          "output_type": "stream",
          "name": "stdout",
          "text": [
            "12\n",
            "-1\n"
          ]
        }
      ]
    },
    {
      "cell_type": "code",
      "source": [
        "#used to change the given string\n",
        "temp_str2=\"HeLLo my name is {fname}, I am a {position}!\"\n",
        "print(temp_str1.format(fname=\"Sabina\",position=\"Student\"))\n",
        "\n",
        "temp_str1=\"Hello my name is {0}, I am a {1}\"\n",
        "print(temp_str1.format(\"Sabina\",\"Student\"))"
      ],
      "metadata": {
        "colab": {
          "base_uri": "https://localhost:8080/"
        },
        "id": "-dLOX8DYe1WX",
        "outputId": "d75b6d01-a3fa-4295-c2d8-16d61a7fed41"
      },
      "execution_count": null,
      "outputs": [
        {
          "output_type": "stream",
          "name": "stdout",
          "text": [
            "HeLLo my name is Sabina, I am a Student!\n",
            "Hello my name is Sabina, I am a Student\n"
          ]
        }
      ]
    },
    {
      "cell_type": "code",
      "source": [
        "#Functions\n",
        "# 1. format map\n",
        "# 2. expandtabs"
      ],
      "metadata": {
        "id": "B6ZpcwW9haYE"
      },
      "execution_count": null,
      "outputs": []
    },
    {
      "cell_type": "code",
      "source": [
        "#Replica of find function but this returns erorr if nothing found\n",
        "print(temp_str.index(\"how\"))"
      ],
      "metadata": {
        "colab": {
          "base_uri": "https://localhost:8080/",
          "height": 199
        },
        "id": "9R_JmgWQhpsC",
        "outputId": "b295542e-ebb8-47de-f138-c01268e220d2"
      },
      "execution_count": null,
      "outputs": [
        {
          "output_type": "error",
          "ename": "ValueError",
          "evalue": "ignored",
          "traceback": [
            "\u001b[0;31m---------------------------------------------------------------------------\u001b[0m",
            "\u001b[0;31mValueError\u001b[0m                                Traceback (most recent call last)",
            "\u001b[0;32m<ipython-input-32-e66eb1ab4a43>\u001b[0m in \u001b[0;36m<cell line: 2>\u001b[0;34m()\u001b[0m\n\u001b[1;32m      1\u001b[0m \u001b[0;31m#Replica of find function but this returns erorr if nothing found\u001b[0m\u001b[0;34m\u001b[0m\u001b[0;34m\u001b[0m\u001b[0m\n\u001b[0;32m----> 2\u001b[0;31m \u001b[0mprint\u001b[0m\u001b[0;34m(\u001b[0m\u001b[0mtemp_str\u001b[0m\u001b[0;34m.\u001b[0m\u001b[0mindex\u001b[0m\u001b[0;34m(\u001b[0m\u001b[0;34m\"how\"\u001b[0m\u001b[0;34m)\u001b[0m\u001b[0;34m)\u001b[0m\u001b[0;34m\u001b[0m\u001b[0;34m\u001b[0m\u001b[0m\n\u001b[0m",
            "\u001b[0;31mValueError\u001b[0m: substring not found"
          ]
        }
      ]
    },
    {
      "cell_type": "code",
      "source": [
        "#Returns True if only numbers and alphabets are present else returns false\n",
        "temp_str=\"HeLLo world how is it going? Hello all good! how are you!\"\n",
        "temp_str=\"HelloWorld\"\n",
        "print(temp_str.isalnum())\n",
        "print(temp_str1.isalnum())\n",
        "print(temp_str[0:5].isalnum())"
      ],
      "metadata": {
        "colab": {
          "base_uri": "https://localhost:8080/"
        },
        "id": "_Xcb3puZigw0",
        "outputId": "2a52aa19-10ca-4715-a66d-892b2b843665"
      },
      "execution_count": null,
      "outputs": [
        {
          "output_type": "stream",
          "name": "stdout",
          "text": [
            "True\n",
            "False\n",
            "True\n"
          ]
        }
      ]
    },
    {
      "cell_type": "code",
      "source": [
        "#Returns true if only alphabets are present else returns false\n",
        "temp_str=\"helloworld\"\n",
        "temp_str1=\"Hello world\"\n",
        "temp_str2=\"helloworld123\"\n",
        "print(temp_str.isalpha())"
      ],
      "metadata": {
        "colab": {
          "base_uri": "https://localhost:8080/"
        },
        "id": "oR8JRmrVjxly",
        "outputId": "ee4da361-643b-4d13-cdaf-73e8aa25a508"
      },
      "execution_count": null,
      "outputs": [
        {
          "output_type": "stream",
          "name": "stdout",
          "text": [
            "True\n"
          ]
        }
      ]
    },
    {
      "cell_type": "code",
      "source": [
        "# returns true only if numbers are between 0-9 else returns false\n",
        "temp_str=\"hello world\"\n",
        "temp_str1=\"2245667875\"\n",
        "temp_str2=\" 345678 \"\n",
        "unicode_0=\"\\u0030\"\n",
        "print(temp_str.isdecimal())\n",
        "print(temp_str1.isdecimal())\n",
        "print(temp_str2.isdecimal())\n",
        "print(unicode_0.isdecimal())"
      ],
      "metadata": {
        "colab": {
          "base_uri": "https://localhost:8080/"
        },
        "id": "N1xUUprlkryx",
        "outputId": "99495e7d-6d61-4b55-889d-80631afebfba"
      },
      "execution_count": null,
      "outputs": [
        {
          "output_type": "stream",
          "name": "stdout",
          "text": [
            "False\n",
            "True\n",
            "False\n",
            "True\n"
          ]
        }
      ]
    },
    {
      "cell_type": "code",
      "source": [
        "temp_str=\"5567886432\"\n",
        "temp_str1=\"hello world\"\n",
        "unicode_0 =\"\\u0030\"\n",
        "print(temp_str.isdigit())\n",
        "print(temp_str1.isdigit())\n",
        "print(unicode_0.isdigit())"
      ],
      "metadata": {
        "colab": {
          "base_uri": "https://localhost:8080/"
        },
        "id": "F4fnFurolhg1",
        "outputId": "b73985b5-2a7d-4e69-9631-7135d3ba6fc8"
      },
      "execution_count": null,
      "outputs": [
        {
          "output_type": "stream",
          "name": "stdout",
          "text": [
            "True\n",
            "False\n",
            "True\n"
          ]
        }
      ]
    },
    {
      "cell_type": "code",
      "source": [
        "#returns true if only numbers between 0-9 else returns False\n",
        "temp_str=\"\\u00B2\" #unicode for subscript of 2\n",
        "print(\"km\\u00B2\")\n",
        "print(temp_str.isdecimal()) #doesnot work for decimal\n",
        "print(temp_str.isdigit())   #works for numbers only"
      ],
      "metadata": {
        "colab": {
          "base_uri": "https://localhost:8080/"
        },
        "id": "G0hD2dMdYf7h",
        "outputId": "27a63ddb-c8f1-4736-b79f-9a333b84c846"
      },
      "execution_count": 3,
      "outputs": [
        {
          "output_type": "stream",
          "name": "stdout",
          "text": [
            "km²\n",
            "False\n",
            "True\n"
          ]
        }
      ]
    },
    {
      "cell_type": "code",
      "source": [
        "# Finds out if the string is an identifier or not (Returns True if the word is keyword in python else return False)\n",
        "# This also works with variable declaration so if it starts with numbers its false\n",
        "temp_str=\"Hello World\"\n",
        "print(temp_str.isidentifier())\n",
        "temp_str2=\"1213hdgshgad\"\n",
        "print(temp_str2.isidentifier())\n",
        "temp_str3=\"hdgshgad1562456\"\n",
        "print(temp_str3.isidentifier())"
      ],
      "metadata": {
        "colab": {
          "base_uri": "https://localhost:8080/"
        },
        "id": "2xi84-Zna4u0",
        "outputId": "526bbad1-29a8-4f57-d95d-ea3c31487d6a"
      },
      "execution_count": 6,
      "outputs": [
        {
          "output_type": "stream",
          "name": "stdout",
          "text": [
            "False\n",
            "False\n",
            "True\n"
          ]
        }
      ]
    },
    {
      "cell_type": "code",
      "source": [
        "# Returns true if the string is lower else returns false\n",
        "temp_str=\"Hello WORLD\"\n",
        "temp_str2=\"hello worldddd1773602\"\n",
        "print(temp_str.islower())\n",
        "print(temp_str2.islower())"
      ],
      "metadata": {
        "colab": {
          "base_uri": "https://localhost:8080/"
        },
        "id": "pz8A-MwQbtuB",
        "outputId": "be3baa25-74a3-4f7f-b7d5-830994f7c22c"
      },
      "execution_count": 5,
      "outputs": [
        {
          "output_type": "stream",
          "name": "stdout",
          "text": [
            "False\n",
            "True\n"
          ]
        }
      ]
    },
    {
      "cell_type": "code",
      "source": [
        "#Returns true only if white spaces else returns false\n",
        "temp_str=\"Hello WORLD\"\n",
        "print(temp_str.isspace())\n",
        "temp_str2=\" \"\n",
        "print(temp_str2.isspace())"
      ],
      "metadata": {
        "colab": {
          "base_uri": "https://localhost:8080/"
        },
        "id": "newVuhJFdO2y",
        "outputId": "0b78507a-6c22-4d75-8b86-0b0304d2ef63"
      },
      "execution_count": 2,
      "outputs": [
        {
          "output_type": "stream",
          "name": "stdout",
          "text": [
            "False\n",
            "True\n"
          ]
        }
      ]
    },
    {
      "cell_type": "code",
      "source": [
        "#Returns True  if first characters of each word is upper case and other are in lower case\n",
        "temp_str=\"Hello WORLD\"\n",
        "print(temp_str.istitle())\n",
        "temp_str2=\"Hello World\"\n",
        "print(temp_str2.istitle())\n",
        "temp_str3=\"HELLO WORLD\"\n",
        "print(temp_str3.istitle())\n",
        "temp_str4=\"Hello WorLD\"\n",
        "print(temp_str4.istitle())"
      ],
      "metadata": {
        "colab": {
          "base_uri": "https://localhost:8080/"
        },
        "id": "cYu-CcyjeFZG",
        "outputId": "438ab71e-b64d-4022-834e-74a60401e71c"
      },
      "execution_count": 5,
      "outputs": [
        {
          "output_type": "stream",
          "name": "stdout",
          "text": [
            "False\n",
            "True\n",
            "False\n",
            "False\n"
          ]
        }
      ]
    },
    {
      "cell_type": "code",
      "source": [
        "#If all the alphabets available are in upper case it returns True\n",
        "temp_str=\"Hello WOrld\"\n",
        "print(temp_str.isupper())\n",
        "temp_str1=\"HELLO WORLDSJHD635657@#$%^\"\n",
        "print(temp_str1.isupper())\n",
        "temp_str2=\"635657@#$%^234ABCDE\"\n",
        "print(temp_str2.isupper())"
      ],
      "metadata": {
        "colab": {
          "base_uri": "https://localhost:8080/"
        },
        "id": "JUUsX8G6fF09",
        "outputId": "9732227d-0cd8-4f86-ad65-f1398ad39f2f"
      },
      "execution_count": 8,
      "outputs": [
        {
          "output_type": "stream",
          "name": "stdout",
          "text": [
            "False\n",
            "True\n",
            "True\n"
          ]
        }
      ]
    },
    {
      "cell_type": "code",
      "source": [
        "# Lists are Heterogenous\n",
        "### Iterables are list, tuple ###\n",
        "list_temp=[\"Hello\",\"World\",\"How\",\"are\",\"you\"]\n",
        "print(\"#\".join(list_temp))"
      ],
      "metadata": {
        "colab": {
          "base_uri": "https://localhost:8080/"
        },
        "id": "v_e60SFFf0R_",
        "outputId": "28c326a5-bfd8-4cbe-cd3d-c2eab1f67309"
      },
      "execution_count": 11,
      "outputs": [
        {
          "output_type": "stream",
          "name": "stdout",
          "text": [
            "Hello#World#How#are#you\n"
          ]
        }
      ]
    },
    {
      "cell_type": "code",
      "source": [
        "# Returns/Changes the string into lowercase\n",
        "#Only works for English Characters\n",
        "temp_str=\"Hello World\"\n",
        "print(temp_str.lower())\n",
        "string_german=\"ß\"\n",
        "print(string_german.lower())\n",
        "print(string_german.casefold())"
      ],
      "metadata": {
        "colab": {
          "base_uri": "https://localhost:8080/"
        },
        "id": "duz8NzpyhZ1s",
        "outputId": "175a3cd4-db87-48d7-a84e-1476dc7794b8"
      },
      "execution_count": 13,
      "outputs": [
        {
          "output_type": "stream",
          "name": "stdout",
          "text": [
            "hello world\n",
            "ß\n",
            "ss\n"
          ]
        }
      ]
    },
    {
      "cell_type": "code",
      "source": [
        "# Removes the white spaces and tabs from left side of the string\n",
        "temp_str=\"                 Hello WOrld         \"\n",
        "print(temp_str.lstrip())"
      ],
      "metadata": {
        "colab": {
          "base_uri": "https://localhost:8080/"
        },
        "id": "ndbNIcZLiXfK",
        "outputId": "8253005c-76c1-4f8a-d7dc-4f00d8d79bb5"
      },
      "execution_count": 15,
      "outputs": [
        {
          "output_type": "stream",
          "name": "stdout",
          "text": [
            "Hello WOrld         \n"
          ]
        }
      ]
    },
    {
      "cell_type": "code",
      "source": [
        "# Returns the tuples with the word in the middle\n",
        "temp_str=\"I could eat apples all day\"\n",
        "print(temp_str.partition(\"apples\"))\n",
        "print(temp_str.partition(\"apples132424\")) #Returned empty spaces coz it couldn't find 'apples132424'"
      ],
      "metadata": {
        "colab": {
          "base_uri": "https://localhost:8080/"
        },
        "id": "7NudDl-ni7zT",
        "outputId": "e5c8dffd-8238-4eb6-f38a-a4010ae17985"
      },
      "execution_count": 17,
      "outputs": [
        {
          "output_type": "stream",
          "name": "stdout",
          "text": [
            "('I could eat ', 'apples', ' all day')\n",
            "('I could eat apples all day', '', '')\n"
          ]
        }
      ]
    },
    {
      "cell_type": "code",
      "source": [
        "# Replaces the word with the different world given word\n",
        "temp_str=\"I could eat apples all day, that's all i can say\"\n",
        "print(temp_str.replace('all',' '))\n",
        "print(temp_str.replace('all','every').replace('apples','Mangoes'))"
      ],
      "metadata": {
        "colab": {
          "base_uri": "https://localhost:8080/"
        },
        "id": "ORnGtbgUkTuU",
        "outputId": "c1305456-294b-492a-cf42-b1c206bed81e"
      },
      "execution_count": 22,
      "outputs": [
        {
          "output_type": "stream",
          "name": "stdout",
          "text": [
            "I could eat apples   day, that's   i can say\n",
            "I could eat Mangoes every day, that's every i can say\n"
          ]
        }
      ]
    },
    {
      "cell_type": "code",
      "source": [
        "#Removes the white spaces on the right hand side\n",
        "temp_str=\"                 Hello WOrld         \"\n",
        "print(temp_str.rstrip())"
      ],
      "metadata": {
        "colab": {
          "base_uri": "https://localhost:8080/"
        },
        "id": "Hp0IRi5zlYqL",
        "outputId": "a31ace17-8a36-4c45-c6f6-fd3ee8198a95"
      },
      "execution_count": 24,
      "outputs": [
        {
          "output_type": "stream",
          "name": "stdout",
          "text": [
            "                 Hello WOrld\n"
          ]
        }
      ]
    },
    {
      "cell_type": "code",
      "source": [
        "### Splits the string into left right according to the condition given otherwise splits by space by default ###\n",
        "temp_str=\"I could eat apples all day, that's all i can say\"\n",
        "print(temp_str.split(\",\"))\n",
        "print(temp_str.split())"
      ],
      "metadata": {
        "colab": {
          "base_uri": "https://localhost:8080/"
        },
        "id": "dpZPJChNl3GR",
        "outputId": "baeed0f4-bc70-4548-8c05-d3cfc388e2b9"
      },
      "execution_count": 27,
      "outputs": [
        {
          "output_type": "stream",
          "name": "stdout",
          "text": [
            "['I could eat apples all day', \" that's all i can say\"]\n",
            "['I', 'could', 'eat', 'apples', 'all', 'day,', \"that's\", 'all', 'i', 'can', 'say']\n"
          ]
        }
      ]
    },
    {
      "cell_type": "code",
      "source": [
        "temp_str=\"I could eat apples all day, that's all i can say\"\n",
        "print(temp_str.startswith(\"I\"))\n",
        "print(temp_str.startswith(\"could\"))\n",
        "print(temp_str.startswith(\"could\",2))  #True because we pass value to start with (2)"
      ],
      "metadata": {
        "colab": {
          "base_uri": "https://localhost:8080/"
        },
        "id": "z1TL61BXm3wq",
        "outputId": "aba639a0-dcc9-48ad-88ab-8986b51bef3c"
      },
      "execution_count": 32,
      "outputs": [
        {
          "output_type": "stream",
          "name": "stdout",
          "text": [
            "True\n",
            "False\n",
            "True\n"
          ]
        }
      ]
    },
    {
      "cell_type": "code",
      "source": [
        "# Removes white spaces on both sides of the string\n",
        "temp_str=\"                 Hello WOrld         \"\n",
        "temp_str.strip()"
      ],
      "metadata": {
        "colab": {
          "base_uri": "https://localhost:8080/",
          "height": 35
        },
        "id": "rdHi3vQLna_4",
        "outputId": "fdab44b2-e80d-4cad-b2cb-1760c4c4c24f"
      },
      "execution_count": 31,
      "outputs": [
        {
          "output_type": "execute_result",
          "data": {
            "text/plain": [
              "'Hello WOrld'"
            ],
            "application/vnd.google.colaboratory.intrinsic+json": {
              "type": "string"
            }
          },
          "metadata": {},
          "execution_count": 31
        }
      ]
    },
    {
      "cell_type": "code",
      "source": [
        "#Swaps lower into upper and viceversa\n",
        "temp_str=\"I could eat APPLES all day, that's all i can SAY\"\n",
        "temp_str.swapcase()"
      ],
      "metadata": {
        "colab": {
          "base_uri": "https://localhost:8080/",
          "height": 35
        },
        "id": "njNw2F0bnpbO",
        "outputId": "784d8ba2-66d8-4ede-a2fe-588aa0db6e1d"
      },
      "execution_count": 34,
      "outputs": [
        {
          "output_type": "execute_result",
          "data": {
            "text/plain": [
              "\"i COULD EAT apples ALL DAY, THAT'S ALL I CAN say\""
            ],
            "application/vnd.google.colaboratory.intrinsic+json": {
              "type": "string"
            }
          },
          "metadata": {},
          "execution_count": 34
        }
      ]
    },
    {
      "cell_type": "code",
      "source": [
        "# ONLY First alphabet of the string is converted to capital letter\n",
        "temp_str=\"I could eat apples all day, that's all i can say\"\n",
        "print(temp_str.title())\n",
        "temp_str1=\"I could eat APPLES all DAY, that's all i cAN say\"\n",
        "print(temp_str1.title())"
      ],
      "metadata": {
        "colab": {
          "base_uri": "https://localhost:8080/"
        },
        "id": "T4rX4GcEn9cr",
        "outputId": "fec5fe11-f1da-4039-ef56-fbdac085916a"
      },
      "execution_count": 38,
      "outputs": [
        {
          "output_type": "stream",
          "name": "stdout",
          "text": [
            "I Could Eat Apples All Day, That'S All I Can Say\n",
            "I Could Eat Apples All Day, That'S All I Can Say\n"
          ]
        }
      ]
    },
    {
      "cell_type": "code",
      "source": [
        "# Only remembers the most recent value if there's duplicate keys\n",
        "temp_str={83:80,83:70}\n",
        "print(temp_str)"
      ],
      "metadata": {
        "colab": {
          "base_uri": "https://localhost:8080/"
        },
        "id": "r32LFAaQoxBS",
        "outputId": "e239181e-33b6-4fcb-a160-7c26f2716b6b"
      },
      "execution_count": 41,
      "outputs": [
        {
          "output_type": "stream",
          "name": "stdout",
          "text": [
            "{83: 70}\n"
          ]
        }
      ]
    },
    {
      "cell_type": "code",
      "source": [
        "temp_str={\"brand\":\"Ford\",\"model\":\"Mustang\",\"year\":1999, \"year\":2023}\n",
        "print(temp_str)"
      ],
      "metadata": {
        "colab": {
          "base_uri": "https://localhost:8080/"
        },
        "id": "VTl3hch3p0iD",
        "outputId": "4832ec70-bce6-48bc-b73b-0484f7f07fce"
      },
      "execution_count": 43,
      "outputs": [
        {
          "output_type": "stream",
          "name": "stdout",
          "text": [
            "{'brand': 'Ford', 'model': 'Mustang', 'year': 2023}\n"
          ]
        }
      ]
    },
    {
      "cell_type": "code",
      "source": [
        "temp_str={\"brand\":\"Ford\",\"model\":\"Mustang\",\"year\":1999, \"year\":2023}\n",
        "print(temp_str[\"brand\"])\n",
        "print(temp_str[\"year\"])"
      ],
      "metadata": {
        "colab": {
          "base_uri": "https://localhost:8080/"
        },
        "id": "hGS6dAzNqYCy",
        "outputId": "81b896f6-839a-43db-f6c2-3169c89b34a8"
      },
      "execution_count": 45,
      "outputs": [
        {
          "output_type": "stream",
          "name": "stdout",
          "text": [
            "Ford\n",
            "2023\n"
          ]
        }
      ]
    },
    {
      "cell_type": "code",
      "source": [
        "thisdict=dict(name=\"john\",age=34,country=\"England\")\n",
        "print(thisdict)"
      ],
      "metadata": {
        "colab": {
          "base_uri": "https://localhost:8080/"
        },
        "id": "bi8G5Vp_qlkG",
        "outputId": "1c738950-d486-4766-8992-c5209f1c4c6d"
      },
      "execution_count": 46,
      "outputs": [
        {
          "output_type": "stream",
          "name": "stdout",
          "text": [
            "{'name': 'john', 'age': 34, 'country': 'England'}\n"
          ]
        }
      ]
    },
    {
      "cell_type": "code",
      "source": [
        "#ASCII Code value of S is 83 defaultly we replace it with 80 here which is P\n",
        "temp_dict={83:80}\n",
        "temp_str=\"Hello Sam! SSSSSSSSHHHHHHHHHHHH\"\n",
        "print(temp_str.translate(temp_dict))"
      ],
      "metadata": {
        "colab": {
          "base_uri": "https://localhost:8080/"
        },
        "id": "1i0CFHw4rkct",
        "outputId": "73d356ff-670b-4e97-9733-460d817ac7ff"
      },
      "execution_count": 49,
      "outputs": [
        {
          "output_type": "stream",
          "name": "stdout",
          "text": [
            "Hello Pam! PPPPPPPPHHHHHHHHHHHH\n"
          ]
        }
      ]
    },
    {
      "cell_type": "code",
      "source": [
        "temp_str=\"I could eat apples all day, that's all i can say\"\n",
        "temp_str.upper()"
      ],
      "metadata": {
        "colab": {
          "base_uri": "https://localhost:8080/",
          "height": 35
        },
        "id": "EFPpcA0ht57y",
        "outputId": "4423c92a-9a3e-45a5-9d46-1edf1b86026d"
      },
      "execution_count": 50,
      "outputs": [
        {
          "output_type": "execute_result",
          "data": {
            "text/plain": [
              "\"I COULD EAT APPLES ALL DAY, THAT'S ALL I CAN SAY\""
            ],
            "application/vnd.google.colaboratory.intrinsic+json": {
              "type": "string"
            }
          },
          "metadata": {},
          "execution_count": 50
        }
      ]
    },
    {
      "cell_type": "code",
      "source": [
        "# Fills Zeros if the string is less than the given string length\n",
        "temp_str=\"I could eat apples all day, that's all i can say\"\n",
        "print(len(temp_str))\n",
        "print(temp_str.zfill(10))\n",
        "print(temp_str.zfill(50))"
      ],
      "metadata": {
        "colab": {
          "base_uri": "https://localhost:8080/"
        },
        "id": "7cugCCvruMPh",
        "outputId": "9330df08-5bc2-43ab-ae5b-b40acd9259bf"
      },
      "execution_count": 51,
      "outputs": [
        {
          "output_type": "stream",
          "name": "stdout",
          "text": [
            "48\n",
            "I could eat apples all day, that's all i can say\n",
            "00I could eat apples all day, that's all i can say\n"
          ]
        }
      ]
    }
  ]
}