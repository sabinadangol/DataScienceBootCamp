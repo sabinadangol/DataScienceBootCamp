{
  "nbformat": 4,
  "nbformat_minor": 0,
  "metadata": {
    "colab": {
      "provenance": []
    },
    "kernelspec": {
      "name": "python3",
      "display_name": "Python 3"
    },
    "language_info": {
      "name": "python"
    }
  },
  "cells": [
    {
      "cell_type": "code",
      "source": [
        "# Functions jumped\n",
        "# 1 format map\n",
        "# 2 expandtabs\n",
        "# 'isascii'\n",
        "# ljust\n",
        "# maketrans\n",
        "# 'removeprefix'\n",
        "# 'removesuffix'\n",
        "# 'rfind',\n",
        "# 'rindex',\n",
        "# 'rjust',\n",
        "# 'rpartition',\n",
        "# 'rsplit',"
      ],
      "metadata": {
        "id": "D9En0TqChYK3"
      },
      "execution_count": null,
      "outputs": []
    },
    {
      "cell_type": "code",
      "execution_count": null,
      "metadata": {
        "colab": {
          "base_uri": "https://localhost:8080/"
        },
        "id": "6Hlsk7WgRywI",
        "outputId": "c531f564-a925-4993-f894-e2b12baf4fad"
      },
      "outputs": [
        {
          "output_type": "stream",
          "name": "stdout",
          "text": [
            "HloWrd\n"
          ]
        }
      ],
      "source": [
        "temp_str=\"Hello World\"\n",
        "print(temp_str[::2])\n",
        "# string slicing [start:stop:step]"
      ]
    },
    {
      "cell_type": "code",
      "source": [
        "dir(temp_str)"
      ],
      "metadata": {
        "colab": {
          "base_uri": "https://localhost:8080/"
        },
        "id": "VOIq9UVRSh-K",
        "outputId": "e375693a-f3b1-4b6d-b8fe-bcf43ba9ba56"
      },
      "execution_count": null,
      "outputs": [
        {
          "output_type": "execute_result",
          "data": {
            "text/plain": [
              "['__add__',\n",
              " '__class__',\n",
              " '__contains__',\n",
              " '__delattr__',\n",
              " '__dir__',\n",
              " '__doc__',\n",
              " '__eq__',\n",
              " '__format__',\n",
              " '__ge__',\n",
              " '__getattribute__',\n",
              " '__getitem__',\n",
              " '__getnewargs__',\n",
              " '__gt__',\n",
              " '__hash__',\n",
              " '__init__',\n",
              " '__init_subclass__',\n",
              " '__iter__',\n",
              " '__le__',\n",
              " '__len__',\n",
              " '__lt__',\n",
              " '__mod__',\n",
              " '__mul__',\n",
              " '__ne__',\n",
              " '__new__',\n",
              " '__reduce__',\n",
              " '__reduce_ex__',\n",
              " '__repr__',\n",
              " '__rmod__',\n",
              " '__rmul__',\n",
              " '__setattr__',\n",
              " '__sizeof__',\n",
              " '__str__',\n",
              " '__subclasshook__',\n",
              " 'capitalize',\n",
              " 'casefold',\n",
              " 'center',\n",
              " 'count',\n",
              " 'encode',\n",
              " 'endswith',\n",
              " 'expandtabs',\n",
              " 'find',\n",
              " 'format',\n",
              " 'format_map',\n",
              " 'index',\n",
              " 'isalnum',\n",
              " 'isalpha',\n",
              " 'isascii',\n",
              " 'isdecimal',\n",
              " 'isdigit',\n",
              " 'isidentifier',\n",
              " 'islower',\n",
              " 'isnumeric',\n",
              " 'isprintable',\n",
              " 'isspace',\n",
              " 'istitle',\n",
              " 'isupper',\n",
              " 'join',\n",
              " 'ljust',\n",
              " 'lower',\n",
              " 'lstrip',\n",
              " 'maketrans',\n",
              " 'partition',\n",
              " 'removeprefix',\n",
              " 'removesuffix',\n",
              " 'replace',\n",
              " 'rfind',\n",
              " 'rindex',\n",
              " 'rjust',\n",
              " 'rpartition',\n",
              " 'rsplit',\n",
              " 'rstrip',\n",
              " 'split',\n",
              " 'splitlines',\n",
              " 'startswith',\n",
              " 'strip',\n",
              " 'swapcase',\n",
              " 'title',\n",
              " 'translate',\n",
              " 'upper',\n",
              " 'zfill']"
            ]
          },
          "metadata": {},
          "execution_count": 2
        }
      ]
    },
    {
      "cell_type": "code",
      "source": [
        "# Takes 1st character of string to upper case\n",
        "temp_str=\"hello world\"\n",
        "print(temp_str.capitalize())"
      ],
      "metadata": {
        "colab": {
          "base_uri": "https://localhost:8080/"
        },
        "id": "PCvCDQ7MTKZL",
        "outputId": "89cd4232-1799-448d-d7b4-8feb72d77b1d"
      },
      "execution_count": null,
      "outputs": [
        {
          "output_type": "stream",
          "name": "stdout",
          "text": [
            "Hello world\n"
          ]
        }
      ]
    },
    {
      "cell_type": "code",
      "source": [
        "# Returns a String where all characters are lowercase\n",
        "temp_str=\"HeLLo WorLD\"\n",
        "print(temp_str.casefold())"
      ],
      "metadata": {
        "colab": {
          "base_uri": "https://localhost:8080/"
        },
        "id": "P24295SCTojR",
        "outputId": "f6ab0ddc-d8f9-48b3-b254-8d8bf034c67b"
      },
      "execution_count": null,
      "outputs": [
        {
          "output_type": "stream",
          "name": "stdout",
          "text": [
            "hello world\n"
          ]
        }
      ]
    },
    {
      "cell_type": "code",
      "source": [
        "# Increases Length of string by adding whatever character is mentioned if not by default fills by space\n",
        "temp_str=\"HeLLo WorLD\"\n",
        "print(temp_str.center(14,\"1\"))"
      ],
      "metadata": {
        "colab": {
          "base_uri": "https://localhost:8080/"
        },
        "id": "E7nslQw3Ucxa",
        "outputId": "c9307aba-e605-4c8e-d10e-7b79c980bb1f"
      },
      "execution_count": null,
      "outputs": [
        {
          "output_type": "stream",
          "name": "stdout",
          "text": [
            "1HeLLo WorLD11\n"
          ]
        }
      ]
    },
    {
      "cell_type": "code",
      "source": [
        "# Returns how many times the substring appears in the given range by default picks full string\n",
        "# Count function is case senstive\n",
        "temp_str=\"HeLLo WorLD how is it going? Hello all good\"\n",
        "print(temp_str)\n",
        "print(temp_str.count(\"Hello\"))\n",
        "print(temp_str.count(\"hello\"))\n",
        "# How to give range\n",
        "# count(value,start,end) # start and end are optional if not given takes full string\n",
        "temp_str_2= \"hello world how is it going? ghellog all good hello\"\n",
        "print(temp_str_2.count(\"hello\",2))"
      ],
      "metadata": {
        "colab": {
          "base_uri": "https://localhost:8080/"
        },
        "id": "tbFkeW5mWWpx",
        "outputId": "47cc609e-3111-41a7-a350-e4ca95923687"
      },
      "execution_count": null,
      "outputs": [
        {
          "output_type": "stream",
          "name": "stdout",
          "text": [
            "HeLLo WorLD how is it going? Hello all good\n",
            "1\n",
            "0\n",
            "3\n"
          ]
        }
      ]
    },
    {
      "cell_type": "code",
      "source": [
        "# returns True and False on the basis of Suffix passed.\n",
        "temp_str=\"HeLLo WorLD how is it going? Hello all good!\"\n",
        "# endswith(value,start,end)\n",
        "print(temp_str.endswith(\"d!\"))\n",
        "print(temp_str.endswith(\"Lo\"))\n",
        "print(temp_str.endswith(\"good\",0,len(temp_str)-1))\n",
        "print(len(temp_str))"
      ],
      "metadata": {
        "colab": {
          "base_uri": "https://localhost:8080/"
        },
        "id": "h4nreFk0bNWw",
        "outputId": "5dd76bb3-ab22-4521-8628-8ec5d6fd95fa"
      },
      "execution_count": null,
      "outputs": [
        {
          "output_type": "stream",
          "name": "stdout",
          "text": [
            "True\n",
            "False\n",
            "True\n",
            "44\n"
          ]
        }
      ]
    },
    {
      "cell_type": "code",
      "source": [
        "# returns lowest index of the substring if found else returns -1\n",
        "temp_str=\"HeLLo WorLD how is it going? Hello all good! how are you!\"\n",
        "print(temp_str.find(\"howhfdhasdhad\"))\n",
        "print(temp_str.find(\"how\"))"
      ],
      "metadata": {
        "colab": {
          "base_uri": "https://localhost:8080/"
        },
        "id": "EQUSfwStdAVo",
        "outputId": "009730f5-cb29-48a3-d58a-a855190db4f7"
      },
      "execution_count": null,
      "outputs": [
        {
          "output_type": "stream",
          "name": "stdout",
          "text": [
            "-1\n",
            "12\n"
          ]
        }
      ]
    },
    {
      "cell_type": "code",
      "source": [
        "temp_str=\"HeLLo my name is {fname}, I am a {position}!\"\n",
        "print(temp_str)\n",
        "print(temp_str.format(fname=\"Rohit\",position=\"Data Scientist\"))\n",
        "temp_str1=\"HeLLo my name is {0}, I am a {1}!\"\n",
        "print(temp_str1.format(\"Data Scientist\",\"Rohit\"))"
      ],
      "metadata": {
        "colab": {
          "base_uri": "https://localhost:8080/"
        },
        "id": "StadQ-kabD1I",
        "outputId": "d5d83b44-fb5c-4d61-9202-c6d9fa9aa5ae"
      },
      "execution_count": null,
      "outputs": [
        {
          "output_type": "stream",
          "name": "stdout",
          "text": [
            "HeLLo my name is {fname}, I am a {position}!\n",
            "HeLLo my name is Rohit, I am a Data Scientist!\n",
            "HeLLo my name is Data Scientist, I am a Rohit!\n"
          ]
        }
      ]
    },
    {
      "cell_type": "code",
      "source": [
        "# replica of find function but this returnds error if nothing found\n",
        "temp_str=\"HeLLo WorLD how is it going? Hello all good! how are you!\"\n",
        "temp_str.index(\"how111\")"
      ],
      "metadata": {
        "colab": {
          "base_uri": "https://localhost:8080/",
          "height": 211
        },
        "id": "7OyNjCingQZf",
        "outputId": "093c23c6-b192-4e80-ef63-77974bff87d3"
      },
      "execution_count": null,
      "outputs": [
        {
          "output_type": "error",
          "ename": "ValueError",
          "evalue": "ignored",
          "traceback": [
            "\u001b[0;31m---------------------------------------------------------------------------\u001b[0m",
            "\u001b[0;31mValueError\u001b[0m                                Traceback (most recent call last)",
            "\u001b[0;32m<ipython-input-67-98ce80daacc9>\u001b[0m in \u001b[0;36m<cell line: 3>\u001b[0;34m()\u001b[0m\n\u001b[1;32m      1\u001b[0m \u001b[0;31m# replica of find function but this returnds error if nothing found\u001b[0m\u001b[0;34m\u001b[0m\u001b[0;34m\u001b[0m\u001b[0m\n\u001b[1;32m      2\u001b[0m \u001b[0mtemp_str\u001b[0m\u001b[0;34m=\u001b[0m\u001b[0;34m\"HeLLo WorLD how is it going? Hello all good! how are you!\"\u001b[0m\u001b[0;34m\u001b[0m\u001b[0;34m\u001b[0m\u001b[0m\n\u001b[0;32m----> 3\u001b[0;31m \u001b[0mtemp_str\u001b[0m\u001b[0;34m.\u001b[0m\u001b[0mindex\u001b[0m\u001b[0;34m(\u001b[0m\u001b[0;34m\"how111\"\u001b[0m\u001b[0;34m)\u001b[0m\u001b[0;34m\u001b[0m\u001b[0;34m\u001b[0m\u001b[0m\n\u001b[0m",
            "\u001b[0;31mValueError\u001b[0m: substring not found"
          ]
        }
      ]
    },
    {
      "cell_type": "code",
      "source": [
        "# Returns True if only numbers and alphabets are present else returns false\n",
        "temp_str=\"HeLLo WorLD how is it going? Hello all good! how are you!\"\n",
        "temp_str1=\"HelloWorld123313\"\n",
        "print(temp_str.isalnum())\n",
        "print(temp_str1.isalnum())\n",
        "print(temp_str[0:5].isalnum())"
      ],
      "metadata": {
        "colab": {
          "base_uri": "https://localhost:8080/"
        },
        "id": "ZZSGcaosh-4G",
        "outputId": "4fbf4a79-8480-4bc5-dc9b-71c37e379360"
      },
      "execution_count": null,
      "outputs": [
        {
          "output_type": "stream",
          "name": "stdout",
          "text": [
            "False\n",
            "True\n",
            "True\n"
          ]
        }
      ]
    },
    {
      "cell_type": "code",
      "source": [
        "# Returns True if only alphabets are present else returns false\n",
        "temp_str=\"HeLLoWorLD\"\n",
        "temp_str1=\"HeLLo WorLD\"\n",
        "temp_str2=\"HeLLoWorLD1221212\"\n",
        "print(temp_str.isalpha())\n",
        "print(temp_str1.isalpha())\n",
        "print(temp_str2.isalpha())"
      ],
      "metadata": {
        "colab": {
          "base_uri": "https://localhost:8080/"
        },
        "id": "FhRbuAIsjP4G",
        "outputId": "fc7222fe-8f73-4e38-caa6-dc378c8b3b4b"
      },
      "execution_count": null,
      "outputs": [
        {
          "output_type": "stream",
          "name": "stdout",
          "text": [
            "True\n",
            "False\n",
            "False\n"
          ]
        }
      ]
    },
    {
      "cell_type": "code",
      "source": [
        "# returns Do not work with SubScript and Digits work with it\n",
        "temp_str=\"\\u00B2\"\n",
        "print(\"km\\u00B2\")\n",
        "print(temp_str.isdecimal())\n",
        "print(temp_str.isdigit())"
      ],
      "metadata": {
        "colab": {
          "base_uri": "https://localhost:8080/"
        },
        "id": "5to1wzHmj3UX",
        "outputId": "909727b6-d294-48ec-c754-8c816c9d6c69"
      },
      "execution_count": null,
      "outputs": [
        {
          "output_type": "stream",
          "name": "stdout",
          "text": [
            "km²\n",
            "False\n",
            "True\n"
          ]
        }
      ]
    },
    {
      "cell_type": "code",
      "source": [
        "# returns True if the word is a keyword in python else returns False\n",
        "# This also works with variable declaration so if it starts with numbers its false\n",
        "temp_str=\"Hello world\"\n",
        "print(temp_str.isidentifier())\n",
        "temp_str2=\"11aabccd\"\n",
        "print(temp_str2.isidentifier())\n",
        "temp_str3=\"aabccdq33231231\"\n",
        "print(temp_str3.isidentifier())"
      ],
      "metadata": {
        "colab": {
          "base_uri": "https://localhost:8080/"
        },
        "id": "rrO_qeiWWUFj",
        "outputId": "8ed55f05-dbc8-4473-92a7-26562f0eb35c"
      },
      "execution_count": null,
      "outputs": [
        {
          "output_type": "stream",
          "name": "stdout",
          "text": [
            "False\n",
            "False\n",
            "True\n"
          ]
        }
      ]
    },
    {
      "cell_type": "code",
      "source": [
        "# Returns True if all alphabets are in lower cases\n",
        "temp_str=\"Hello WORLD\"\n",
        "temp_str2=\"hello world232311121231!!@@@@\"\n",
        "print(temp_str.islower())\n",
        "print(temp_str2.islower())"
      ],
      "metadata": {
        "colab": {
          "base_uri": "https://localhost:8080/"
        },
        "id": "tzds4LDebLVH",
        "outputId": "c58170df-d578-4b06-dd2e-b11bfaadc6a7"
      },
      "execution_count": null,
      "outputs": [
        {
          "output_type": "stream",
          "name": "stdout",
          "text": [
            "False\n",
            "True\n"
          ]
        }
      ]
    },
    {
      "cell_type": "code",
      "source": [
        "# Returns True only if white spaces else returns False\n",
        "temp_str=\"Hello WORLD\"\n",
        "print(temp_str.isspace())\n",
        "temp_str2=\" \"\n",
        "print(temp_str2.isspace())"
      ],
      "metadata": {
        "colab": {
          "base_uri": "https://localhost:8080/"
        },
        "id": "7w9qCyHHcMhG",
        "outputId": "541a5769-ffae-4914-b8af-8c68269098f6"
      },
      "execution_count": null,
      "outputs": [
        {
          "output_type": "stream",
          "name": "stdout",
          "text": [
            "False\n",
            "True\n"
          ]
        }
      ]
    },
    {
      "cell_type": "code",
      "source": [
        "# Returns True if first character of each world is upper case and other are in lower case\n",
        "temp_str=\"Hello WOrld\"\n",
        "print(temp_str.istitle())\n",
        "temp_str2=\"Hello World\"\n",
        "print(temp_str2.istitle())"
      ],
      "metadata": {
        "colab": {
          "base_uri": "https://localhost:8080/"
        },
        "id": "KXzDrPQudkcV",
        "outputId": "509510d8-a045-4398-f1b7-606dfe812465"
      },
      "execution_count": null,
      "outputs": [
        {
          "output_type": "stream",
          "name": "stdout",
          "text": [
            "False\n",
            "True\n"
          ]
        }
      ]
    },
    {
      "cell_type": "code",
      "source": [
        "# If all the alphabets available are in upper case it Returns True\n",
        "temp_str=\"Hello WOrld\"\n",
        "print(temp_str.isupper())\n",
        "temp_str2=\"HELLO WORLDDD1233131232###@@@!!!\"\n",
        "print(temp_str2.isupper())"
      ],
      "metadata": {
        "colab": {
          "base_uri": "https://localhost:8080/"
        },
        "id": "Z2raQnLHe-xc",
        "outputId": "7edd1c6d-ae48-43c0-dabb-67fc557762bd"
      },
      "execution_count": null,
      "outputs": [
        {
          "output_type": "stream",
          "name": "stdout",
          "text": [
            "False\n",
            "True\n"
          ]
        }
      ]
    },
    {
      "cell_type": "code",
      "source": [
        "# Itetrables are list,tuple\n",
        "list_temp=(\"1111\",\"World\",\"How\",\"are\",\"you\")\n",
        "print(\"#\".join(list_temp))"
      ],
      "metadata": {
        "colab": {
          "base_uri": "https://localhost:8080/"
        },
        "id": "Gz4y1hacfgKt",
        "outputId": "75e4af93-dedb-425b-ebcc-da396da68d59"
      },
      "execution_count": null,
      "outputs": [
        {
          "output_type": "stream",
          "name": "stdout",
          "text": [
            "1111#World#How#are#you\n"
          ]
        }
      ]
    },
    {
      "cell_type": "code",
      "source": [
        "temp_str=\"Hello WOrld\"\n",
        "print(temp_str.lower())\n",
        "string_german=\"ß\"\n",
        "print(string_german.lower())\n",
        "print(string_german.casefold())"
      ],
      "metadata": {
        "colab": {
          "base_uri": "https://localhost:8080/"
        },
        "id": "Wis8iEaThEzM",
        "outputId": "15b37388-8cce-441f-8458-f5a02088781c"
      },
      "execution_count": null,
      "outputs": [
        {
          "output_type": "stream",
          "name": "stdout",
          "text": [
            "hello world\n",
            "ß\n",
            "ss\n"
          ]
        }
      ]
    },
    {
      "cell_type": "code",
      "source": [
        "# Removes white spaces and tabs on left side of the string\n",
        "temp_str=\"                 Hello WOrld               \"\n",
        "print(temp_str.lstrip())\n"
      ],
      "metadata": {
        "colab": {
          "base_uri": "https://localhost:8080/"
        },
        "id": "BNzRckGhiD-7",
        "outputId": "a58676a0-7196-4deb-83a7-6bdb4d185ab6"
      },
      "execution_count": null,
      "outputs": [
        {
          "output_type": "stream",
          "name": "stdout",
          "text": [
            "Hello WOrld               \n"
          ]
        }
      ]
    },
    {
      "cell_type": "code",
      "source": [
        "temp_str=\"i could eat apples all day\"\n",
        "print(temp_str.partition(\"apples\"))\n",
        "print(temp_str.partition(\"apples11\"))"
      ],
      "metadata": {
        "colab": {
          "base_uri": "https://localhost:8080/"
        },
        "id": "AedebONti6sL",
        "outputId": "efe67021-3df2-4b51-859d-13301363e653"
      },
      "execution_count": null,
      "outputs": [
        {
          "output_type": "stream",
          "name": "stdout",
          "text": [
            "('i could eat ', 'apples', ' all day')\n",
            "('i could eat apples all day', '', '')\n"
          ]
        }
      ]
    },
    {
      "cell_type": "code",
      "source": [
        "temp_str=\"i could eat apples all day, thats all i can say\"\n",
        "temp_str.replace('all','not').replace(\"apples\",'mangoes')"
      ],
      "metadata": {
        "colab": {
          "base_uri": "https://localhost:8080/",
          "height": 35
        },
        "id": "6A7gdALykY2a",
        "outputId": "6ba9d03d-ccf1-48f8-9a40-4912b3202ec0"
      },
      "execution_count": null,
      "outputs": [
        {
          "output_type": "execute_result",
          "data": {
            "text/plain": [
              "'i could eat mangoes not day, thats not i can say'"
            ],
            "application/vnd.google.colaboratory.intrinsic+json": {
              "type": "string"
            }
          },
          "metadata": {},
          "execution_count": 42
        }
      ]
    },
    {
      "cell_type": "code",
      "source": [
        "# Remove white spaces on the right hand side\n",
        "temp_str=\"                 Hello WOrld               \"\n",
        "temp_str.rstrip()"
      ],
      "metadata": {
        "colab": {
          "base_uri": "https://localhost:8080/",
          "height": 35
        },
        "id": "2HKVXWCvlJYi",
        "outputId": "989ee840-03ea-43a1-bad6-8322514e73e0"
      },
      "execution_count": null,
      "outputs": [
        {
          "output_type": "execute_result",
          "data": {
            "text/plain": [
              "'                 Hello WOrld'"
            ],
            "application/vnd.google.colaboratory.intrinsic+json": {
              "type": "string"
            }
          },
          "metadata": {},
          "execution_count": 43
        }
      ]
    },
    {
      "cell_type": "code",
      "source": [
        "temp_str=\"i could eat #apples all day, thats all i can say\"\n",
        "print(temp_str.split(\",\"))\n",
        "print(temp_str.split(\",\")[0].split(\"#\"))"
      ],
      "metadata": {
        "colab": {
          "base_uri": "https://localhost:8080/"
        },
        "id": "XQjFhaJGlxRy",
        "outputId": "7fa4c061-3e53-4150-d31c-4b392e065fc2"
      },
      "execution_count": null,
      "outputs": [
        {
          "output_type": "stream",
          "name": "stdout",
          "text": [
            "['i could eat #apples all day', ' thats all i can say']\n",
            "['i could eat ', 'apples all day']\n"
          ]
        }
      ]
    },
    {
      "cell_type": "code",
      "source": [
        "temp_str=\"i could eat apples all day, thats all i can say\"\n",
        "print(temp_str.startswith(\"I\"))\n",
        "print(temp_str.startswith(\"could\",2))"
      ],
      "metadata": {
        "colab": {
          "base_uri": "https://localhost:8080/"
        },
        "id": "ilLUCevDmpYw",
        "outputId": "92cc39e4-d2ff-4558-a906-f8a76079f332"
      },
      "execution_count": null,
      "outputs": [
        {
          "output_type": "stream",
          "name": "stdout",
          "text": [
            "False\n",
            "True\n"
          ]
        }
      ]
    },
    {
      "cell_type": "code",
      "source": [
        "temp_str=\"                 Hello WOrld               \"\n",
        "temp_str.strip()"
      ],
      "metadata": {
        "colab": {
          "base_uri": "https://localhost:8080/",
          "height": 35
        },
        "id": "Rlc4h8xGnNsx",
        "outputId": "be2d74f8-a73d-43bc-ed8c-4ff619b6cd31"
      },
      "execution_count": null,
      "outputs": [
        {
          "output_type": "execute_result",
          "data": {
            "text/plain": [
              "'Hello WOrld'"
            ],
            "application/vnd.google.colaboratory.intrinsic+json": {
              "type": "string"
            }
          },
          "metadata": {},
          "execution_count": 57
        }
      ]
    },
    {
      "cell_type": "code",
      "source": [
        "temp_str=\"i could eat APPLES all day, thats all i can say\"\n",
        "temp_str.swapcase()"
      ],
      "metadata": {
        "colab": {
          "base_uri": "https://localhost:8080/",
          "height": 35
        },
        "id": "_C69onlOngTQ",
        "outputId": "399bc298-ae7c-4265-baf1-427cbd0f563c"
      },
      "execution_count": null,
      "outputs": [
        {
          "output_type": "execute_result",
          "data": {
            "text/plain": [
              "'I COULD EAT apples ALL DAY, THATS ALL I CAN SAY'"
            ],
            "application/vnd.google.colaboratory.intrinsic+json": {
              "type": "string"
            }
          },
          "metadata": {},
          "execution_count": 59
        }
      ]
    },
    {
      "cell_type": "code",
      "source": [
        "temp_str=\"i could eat aPples all day, thats all i can say\"\n",
        "temp_str.title()"
      ],
      "metadata": {
        "colab": {
          "base_uri": "https://localhost:8080/",
          "height": 35
        },
        "id": "cDyAW3crnyxY",
        "outputId": "ceeceaf6-9d1f-4188-d440-d521cdd82a1d"
      },
      "execution_count": null,
      "outputs": [
        {
          "output_type": "execute_result",
          "data": {
            "text/plain": [
              "'I Could Eat Apples All Day, Thats All I Can Say'"
            ],
            "application/vnd.google.colaboratory.intrinsic+json": {
              "type": "string"
            }
          },
          "metadata": {},
          "execution_count": 61
        }
      ]
    },
    {
      "cell_type": "code",
      "source": [
        "temp_str={83:80,83:78}\n",
        "print(temp_str)\n"
      ],
      "metadata": {
        "colab": {
          "base_uri": "https://localhost:8080/"
        },
        "id": "NKrdfPHfoKUw",
        "outputId": "8e5cf466-594e-4286-8b0d-3c58b73f3eff"
      },
      "execution_count": null,
      "outputs": [
        {
          "output_type": "stream",
          "name": "stdout",
          "text": [
            "{83: 78}\n"
          ]
        }
      ]
    },
    {
      "cell_type": "code",
      "source": [
        "temp_str={\"brand\":\"Ford\",\"model\":\"Mustang\",\"year\":1964,\"year\":2020}\n",
        "print(temp_str)"
      ],
      "metadata": {
        "colab": {
          "base_uri": "https://localhost:8080/"
        },
        "id": "nRu5IA7-pump",
        "outputId": "893e55e9-f88a-4fa8-eb1c-3642dcff46ee"
      },
      "execution_count": null,
      "outputs": [
        {
          "output_type": "stream",
          "name": "stdout",
          "text": [
            "{'brand': 'Ford', 'model': 'Mustang', 'year': 2020}\n"
          ]
        }
      ]
    },
    {
      "cell_type": "code",
      "source": [
        "temp_str={\"brand\":\"Ford\",\"model\":\"Mustang\",\"year\":1964,\"year\":2020}\n",
        "print(temp_str[\"brand\"])"
      ],
      "metadata": {
        "colab": {
          "base_uri": "https://localhost:8080/"
        },
        "id": "quSwewY-qOkg",
        "outputId": "d82daa52-7826-4a4f-d44f-51fe3558d6cd"
      },
      "execution_count": null,
      "outputs": [
        {
          "output_type": "stream",
          "name": "stdout",
          "text": [
            "Ford\n"
          ]
        }
      ]
    },
    {
      "cell_type": "code",
      "source": [
        "thisdict=dict(name=\"john\",age=34,country=\"England\")\n",
        "print(thisdict)"
      ],
      "metadata": {
        "colab": {
          "base_uri": "https://localhost:8080/"
        },
        "id": "jd9wI2yYqccG",
        "outputId": "a8ae72fd-15c6-4643-de33-f63c6862a80c"
      },
      "execution_count": null,
      "outputs": [
        {
          "output_type": "stream",
          "name": "stdout",
          "text": [
            "{'name': 'john', 'age': 34, 'country': 'England'}\n"
          ]
        }
      ]
    },
    {
      "cell_type": "code",
      "source": [
        "# Assci Code value of S is 83 defautly we replace it with 80 here which is P\n",
        "temp_dict={83:80,72:77,83:76}\n",
        "temp_str=\"Hello Sam! Shhhhhh\"\n",
        "temp_str.translate(temp_dict)"
      ],
      "metadata": {
        "colab": {
          "base_uri": "https://localhost:8080/",
          "height": 35
        },
        "id": "2BMN9nbBresm",
        "outputId": "ab527beb-6794-46f1-ec27-abc9eba55eae"
      },
      "execution_count": null,
      "outputs": [
        {
          "output_type": "execute_result",
          "data": {
            "text/plain": [
              "'Mello Lam! Lhhhhhh'"
            ],
            "application/vnd.google.colaboratory.intrinsic+json": {
              "type": "string"
            }
          },
          "metadata": {},
          "execution_count": 74
        }
      ]
    },
    {
      "cell_type": "code",
      "source": [
        "temp_str=\"i could eat APPLES all day, thats all i can say\"\n",
        "temp_str.upper()"
      ],
      "metadata": {
        "colab": {
          "base_uri": "https://localhost:8080/",
          "height": 35
        },
        "id": "F1mUIZ9htFYu",
        "outputId": "5b29d162-28db-49da-ce45-470721eb7c96"
      },
      "execution_count": null,
      "outputs": [
        {
          "output_type": "execute_result",
          "data": {
            "text/plain": [
              "'I COULD EAT APPLES ALL DAY, THATS ALL I CAN SAY'"
            ],
            "application/vnd.google.colaboratory.intrinsic+json": {
              "type": "string"
            }
          },
          "metadata": {},
          "execution_count": 75
        }
      ]
    },
    {
      "cell_type": "code",
      "source": [
        "temp_str=\"i could eat APPLES all day, thats all i can say\"\n",
        "print(len(temp_str))\n",
        "print(temp_str.zfill(10))\n",
        "print(temp_str.zfill(50))"
      ],
      "metadata": {
        "colab": {
          "base_uri": "https://localhost:8080/"
        },
        "id": "pvwp3VpwuB4F",
        "outputId": "2a289088-45f6-4fb7-fcf7-016876a2cdea"
      },
      "execution_count": null,
      "outputs": [
        {
          "output_type": "stream",
          "name": "stdout",
          "text": [
            "47\n",
            "i could eat APPLES all day, thats all i can say\n",
            "000i could eat APPLES all day, thats all i can say\n"
          ]
        }
      ]
    }
  ]
}