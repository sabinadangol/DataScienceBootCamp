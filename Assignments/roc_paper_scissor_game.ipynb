{
  "nbformat": 4,
  "nbformat_minor": 0,
  "metadata": {
    "colab": {
      "provenance": []
    },
    "kernelspec": {
      "name": "python3",
      "display_name": "Python 3"
    },
    "language_info": {
      "name": "python"
    }
  },
  "cells": [
    {
      "cell_type": "code",
      "execution_count": null,
      "metadata": {
        "id": "9DG9k2duYxFQ"
      },
      "outputs": [],
      "source": [
        "# 3 choices in total\n",
        "# 1) Rock\n",
        "# 2) Paper\n",
        "# 3) Scissor\n",
        "\n",
        "#Rock smashes scissors.\n",
        "# Paper covers rock.\n",
        "#Scissors cut paper.\n",
        "# Same choice is a Tie"
      ]
    },
    {
      "cell_type": "code",
      "source": [
        "user_wins = False\n",
        "while not user_wins:\n",
        "  import random\n",
        "  possible_actions = [\"rock\", \"paper\", \"scissors\"]\n",
        "  computer_action = random.choice(possible_actions)\n",
        "  user_input=input(\"Please make a choice from rock, paper, scissors: \").lower()\n",
        "  if user_input not in ('rock', 'paper','scissor'):\n",
        "    print('Invalid input. Please choose again.')\n",
        "    user_input=input(\"Please make a choice from rock, paper, scissors: \").lower()\n",
        "\n",
        "  if user_input == computer_action:\n",
        "    print(\"It's a tie!\")\n",
        "  elif (user_input == \"rock\" and computer_action == \"scissors\") or \\\n",
        "        (user_input == \"paper\" and computer_action == \"rock\") or \\\n",
        "        (user_input == \"scissors\" and computer_action == \"paper\"):\n",
        "    result = user_input\n",
        "  else:\n",
        "    result = computer_action\n",
        "  if result == user_input:\n",
        "    user_wins = True\n",
        "    print(\"Congratulations, the user won!\")\n",
        "    break\n",
        "  else:\n",
        "    print(\"The computer Won!\")\n",
        "\n",
        "print(f\"You chose: {user_input}\")\n",
        "print(f\"Computer chose: {computer_action}\")"
      ],
      "metadata": {
        "colab": {
          "base_uri": "https://localhost:8080/"
        },
        "id": "xJYlOae-dFrX",
        "outputId": "bdc5a7a0-2620-4135-e04b-eaa82b1b0090"
      },
      "execution_count": 29,
      "outputs": [
        {
          "output_type": "stream",
          "name": "stdout",
          "text": [
            "Please make a choice from rock, paper, scissors: scissor\n",
            "The computer Won!\n",
            "Please make a choice from rock, paper, scissors: paper\n",
            "The computer Won!\n",
            "Please make a choice from rock, paper, scissors: rock\n",
            "It's a tie!\n",
            "The computer Won!\n",
            "Please make a choice from rock, paper, scissors: paper\n",
            "The computer Won!\n",
            "Please make a choice from rock, paper, scissors: rock\n",
            "It's a tie!\n",
            "The computer Won!\n",
            "Please make a choice from rock, paper, scissors: paper\n",
            "It's a tie!\n",
            "The computer Won!\n",
            "Please make a choice from rock, paper, scissors: rock\n",
            "The computer Won!\n",
            "Please make a choice from rock, paper, scissors: scissor\n",
            "The computer Won!\n",
            "Please make a choice from rock, paper, scissors: paper\n",
            "Congratulations, the user won!\n",
            "You chose: paper\n",
            "Computer chose: rock\n"
          ]
        }
      ]
    }
  ]
}