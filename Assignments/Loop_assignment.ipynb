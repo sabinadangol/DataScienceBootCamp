{
  "nbformat": 4,
  "nbformat_minor": 0,
  "metadata": {
    "colab": {
      "provenance": []
    },
    "kernelspec": {
      "name": "python3",
      "display_name": "Python 3"
    },
    "language_info": {
      "name": "python"
    }
  },
  "cells": [
    {
      "cell_type": "code",
      "execution_count": null,
      "metadata": {
        "colab": {
          "base_uri": "https://localhost:8080/"
        },
        "id": "hghzORSJma7e",
        "outputId": "716b05d4-f64c-4fea-974c-da72008375ed"
      },
      "outputs": [
        {
          "output_type": "stream",
          "name": "stdout",
          "text": [
            "Enter the first number: 1\n",
            "Enter the second number: 2\n",
            "Original numbers =  1 2\n",
            "After swapping = 2 1\n"
          ]
        }
      ],
      "source": [
        "#1) Swap two numbers using 3rd variable\n",
        "\n",
        "num1 = int(input(\"Enter the first number: \"))\n",
        "num2 = int(input(\"Enter the second number: \"))\n",
        "print(\"Original numbers = \",num1, num2)\n",
        "temp = num1\n",
        "num1 = num2\n",
        "num2 = temp\n",
        "print(\"After swapping =\",num1, num2)"
      ]
    },
    {
      "cell_type": "code",
      "source": [
        "# 2) Swap two numbers without using 3rd variable\n",
        "\n",
        "num1 = int(input(\"Enter the first number: \"))\n",
        "num2 = int(input(\"Enter the second number: \"))\n",
        "print(\"Original numbers: = \",num1, num2)\n",
        "num1 = num1+num2\n",
        "num2 = num1-num2\n",
        "num1= num1-num2\n",
        "print(\"After swapping =\",num1, num2)"
      ],
      "metadata": {
        "colab": {
          "base_uri": "https://localhost:8080/"
        },
        "id": "Z-SMhghKnoD8",
        "outputId": "ce16df26-7952-4d18-a2d1-ed5887c959a9"
      },
      "execution_count": null,
      "outputs": [
        {
          "output_type": "stream",
          "name": "stdout",
          "text": [
            "Enter the first number: 1\n",
            "Enter the second number: 2\n",
            "Original numbers: =  1 2\n",
            "After swapping = 2 1\n"
          ]
        }
      ]
    },
    {
      "cell_type": "code",
      "source": [
        "# 3) Remove duplicate elements from a list without converting to tuple\n",
        "\n",
        "lst1 = ['Python', 'R', 'C#', 'Python', 'R', 'Java', 'C++','C++']\n",
        "new_list = []\n",
        "for i in lst1:\n",
        "    if i not in new_list:\n",
        "        new_list.append(i)\n",
        "print('The new list without duplicates is: ',new_list)"
      ],
      "metadata": {
        "colab": {
          "base_uri": "https://localhost:8080/"
        },
        "id": "J1DW13mbpeyI",
        "outputId": "6bc95fb0-d531-4692-ba33-c3bd32fec016"
      },
      "execution_count": null,
      "outputs": [
        {
          "output_type": "stream",
          "name": "stdout",
          "text": [
            "The new list without duplicates is:  ['Python', 'R', 'C#', 'Java', 'C++']\n"
          ]
        }
      ]
    },
    {
      "cell_type": "code",
      "source": [
        "# 4) Write a program to find greatest common divisor (GCD) or highest common factor (HCF) of given two numbers\n",
        "\n",
        "num1 = int(input(\"Enter first number: \"))\n",
        "num2 = int(input(\"Enter second number: \"))\n",
        "a = num1\n",
        "b = num2\n",
        "while(b != 0):\n",
        "    remainder = a % b\n",
        "    a = b\n",
        "    b = remainder\n",
        "\n",
        "gcd = a\n",
        "\n",
        "print(\"The GCD of\", num1,\"and\", num2,\"is\", gcd)"
      ],
      "metadata": {
        "id": "TjgyTJGWq3mI"
      },
      "execution_count": null,
      "outputs": []
    },
    {
      "cell_type": "code",
      "source": [
        "# 5) Write a loop to print following series\n",
        "# 10, 20, 30,  …………………, 300\n",
        "\n",
        "for i in range(10,301,10):\n",
        "  print(i,end=', ')"
      ],
      "metadata": {
        "colab": {
          "base_uri": "https://localhost:8080/"
        },
        "id": "qL9gNAoPwya-",
        "outputId": "4f1e6510-40af-495a-e887-d97c6a82ddd4"
      },
      "execution_count": null,
      "outputs": [
        {
          "output_type": "stream",
          "name": "stdout",
          "text": [
            "10, 20, 30, 40, 50, 60, 70, 80, 90, 100, 110, 120, 130, 140, 150, 160, 170, 180, 190, 200, 210, 220, 230, 240, 250, 260, 270, 280, 290, 300, "
          ]
        }
      ]
    },
    {
      "cell_type": "code",
      "source": [
        "# 6) Write a loop to print following series\n",
        "# 105,98,91,………………………,7\n",
        "\n",
        "for i in range(105,1,-7):\n",
        "  print(i, end=', ')"
      ],
      "metadata": {
        "colab": {
          "base_uri": "https://localhost:8080/"
        },
        "id": "CuRRjiNryK-i",
        "outputId": "cba32bfd-4797-499c-9160-95be0434dce0"
      },
      "execution_count": null,
      "outputs": [
        {
          "output_type": "stream",
          "name": "stdout",
          "text": [
            "105, 98, 91, 84, 77, 70, 63, 56, 49, 42, 35, 28, 21, 14, 7, "
          ]
        }
      ]
    },
    {
      "cell_type": "code",
      "source": [
        "# 7) Write a program to print number names of digits in a number like\n",
        "#SAMPLE INPUT 231 \t\tSAMPLE OUTPUT TWO THREE ONE\n",
        "\n",
        "number = input(\"Enter a number: \")\n",
        "\n",
        "number_names = {0: \"ZERO\",1: \"ONE\",2: \"TWO\",3: \"THREE\",4: \"FOUR\",5: \"FIVE\",6: \"SIX\",7: \"SEVEN\",8: \"EIGHT\",9: \"NINE\"}\n",
        "\n",
        "output = \"\"\n",
        "for digit in str(number):\n",
        "  digit = int(digit)\n",
        "  output += number_names[digit] + \" \"\n",
        "\n",
        "print(output)"
      ],
      "metadata": {
        "colab": {
          "base_uri": "https://localhost:8080/"
        },
        "id": "LLDlRYHqyvJU",
        "outputId": "967e1021-c927-4875-d24d-b5eacdb5a0f9"
      },
      "execution_count": null,
      "outputs": [
        {
          "output_type": "stream",
          "name": "stdout",
          "text": [
            "Enter a number: 567\n",
            "FIVE SIX SEVEN \n"
          ]
        }
      ]
    },
    {
      "cell_type": "code",
      "source": [
        "# 8) Write a program to print Fibonacci series till n terms take n =50\n",
        "\n",
        "n = 50\n",
        "a = 0\n",
        "b = 1\n",
        "count = 0\n",
        "print(\"Fibonacci series:\")\n",
        "while count < n:\n",
        "    print(a, end=' ')\n",
        "    c = a + b\n",
        "    a = b\n",
        "    b = c\n",
        "    count += 1"
      ],
      "metadata": {
        "colab": {
          "base_uri": "https://localhost:8080/"
        },
        "id": "CYAbeNUozXNI",
        "outputId": "610b5dbe-00f1-4acb-cd4f-7e2105adf8f7"
      },
      "execution_count": null,
      "outputs": [
        {
          "output_type": "stream",
          "name": "stdout",
          "text": [
            "Fibonacci sequence:\n",
            "0 1 1 2 3 5 8 13 21 34 55 89 144 233 377 610 987 1597 2584 4181 6765 10946 17711 28657 46368 75025 121393 196418 317811 514229 832040 1346269 2178309 3524578 5702887 9227465 14930352 24157817 39088169 63245986 102334155 165580141 267914296 433494437 701408733 1134903170 1836311903 2971215073 4807526976 7778742049 "
          ]
        }
      ]
    },
    {
      "cell_type": "code",
      "source": [
        "# 9) Write a program to print factorial of a number\n",
        "\n",
        "num = int(input(\"Enter a number: \"))\n",
        "factorial = 1\n",
        "if num < 0:\n",
        "   print(\"Factorial does not exist for negative numbers\")\n",
        "elif num == 0:\n",
        "   print(\"The factorial of 0 is 1\")\n",
        "else:\n",
        "   for i in range(1,num + 1):\n",
        "       factorial = factorial*i\n",
        "   print(\"The factorial of\",num,\"is\",factorial)"
      ],
      "metadata": {
        "colab": {
          "base_uri": "https://localhost:8080/"
        },
        "id": "1xufLAjOzhe9",
        "outputId": "75bddd29-597f-44c0-b12d-06ad953aa211"
      },
      "execution_count": null,
      "outputs": [
        {
          "output_type": "stream",
          "name": "stdout",
          "text": [
            "Enter a number: 5\n",
            "The factorial of 5 is 120\n"
          ]
        }
      ]
    },
    {
      "cell_type": "code",
      "source": [
        "# 10) Write a program to check if a number is Armstrong or not\n",
        "# Armstrong num is the sum of the cubes of its digits is equal to the number itself\n",
        "\n",
        "num = int(input(\"Enter a number: \"))\n",
        "sum = 0\n",
        "temp = num\n",
        "while temp > 0:\n",
        "   digit = temp % 10\n",
        "   sum += digit ** 3\n",
        "   temp //= 10\n",
        "\n",
        "if num == sum:\n",
        "   print(num,\"is an Armstrong number\")\n",
        "else:\n",
        "   print(num,\"is not an Armstrong number\")"
      ],
      "metadata": {
        "colab": {
          "base_uri": "https://localhost:8080/"
        },
        "id": "r-TvZbhh586Y",
        "outputId": "e6e853fc-fe39-4a97-d076-755ba4a9910b"
      },
      "execution_count": null,
      "outputs": [
        {
          "output_type": "stream",
          "name": "stdout",
          "text": [
            "Enter a number: 153\n",
            "153 is an Armstrong number\n"
          ]
        }
      ]
    },
    {
      "cell_type": "code",
      "source": [
        "# 11) Write a program to convert binary to decimal\n",
        "\n",
        "binary = input(\"Enter a Binary number: \")\n",
        "decimal = 0\n",
        "for digit in str(binary):\n",
        "    decimal = decimal*2 + int(digit)\n",
        "\n",
        "print(\"The decimal value is\", decimal)"
      ],
      "metadata": {
        "colab": {
          "base_uri": "https://localhost:8080/"
        },
        "id": "i6TL5TGu63se",
        "outputId": "4a17a5fb-e72d-4f22-c36d-6bba87924080"
      },
      "execution_count": null,
      "outputs": [
        {
          "output_type": "stream",
          "name": "stdout",
          "text": [
            "Enter a Binary number: 1010\n",
            "The decimal value is 10\n"
          ]
        }
      ]
    },
    {
      "cell_type": "code",
      "source": [
        "# 12) Write a program to convert decimal to binary\n",
        "\n",
        "decimal = int(input(\"Enter a decimal number: \"))\n",
        "\n",
        "binary = \"\"\n",
        "while decimal > 0:\n",
        "    remainder = decimal % 2\n",
        "    decimal = decimal // 2\n",
        "    binary = str(remainder) + binary\n",
        "\n",
        "print(\"The binary value is:\", binary)"
      ],
      "metadata": {
        "colab": {
          "base_uri": "https://localhost:8080/"
        },
        "id": "erAPdLbX7lRB",
        "outputId": "b3cb45dd-d076-4fb1-dcf2-0bf77823bcfa"
      },
      "execution_count": null,
      "outputs": [
        {
          "output_type": "stream",
          "name": "stdout",
          "text": [
            "Enter a decimal number: 10\n",
            "The binary value is: 1010\n"
          ]
        }
      ]
    },
    {
      "cell_type": "code",
      "source": [
        "# 13) Write a program to check if number is palindrome on not (Without converting to string)\n",
        "\n",
        "num = int(input(\"Enter any number: \"))\n",
        "reversed_num = 0\n",
        "temp = num\n",
        "while temp > 0:\n",
        "  remainder = temp % 10\n",
        "  reversed_num = (reversed_num * 10) + remainder\n",
        "  temp = temp // 10  #Removes the last digit from num by doing integer division\n",
        "\n",
        "if num == reversed_num:\n",
        "  print(num, \"is a palindrome number\")\n",
        "else:\n",
        "  print(num, \"is not a palindrome number\")"
      ],
      "metadata": {
        "colab": {
          "base_uri": "https://localhost:8080/"
        },
        "id": "RJIlLf1W8O6Y",
        "outputId": "df136ee7-b0ae-4cb4-f06a-30bbcc09db91"
      },
      "execution_count": null,
      "outputs": [
        {
          "output_type": "stream",
          "name": "stdout",
          "text": [
            "Enter any number: 123\n",
            "123 is not a palindrome number\n"
          ]
        }
      ]
    },
    {
      "cell_type": "code",
      "source": [
        "# 14) Write a program to print all numbers which are divisible by 13 but not by 3 between 100 and 500\n",
        "\n",
        "print(\"The numbers divisible by 13 but not by 3 are: \")\n",
        "for i in range(100,501):\n",
        "  if (i % 13 == 0) and (i % 3 != 0):\n",
        "    print(i,end=' ')"
      ],
      "metadata": {
        "colab": {
          "base_uri": "https://localhost:8080/"
        },
        "id": "IkgNmMX-9Hi-",
        "outputId": "88a9a6d3-3fc6-40d9-b9d9-f51b70c6e14b"
      },
      "execution_count": null,
      "outputs": [
        {
          "output_type": "stream",
          "name": "stdout",
          "text": [
            "The numbers divisible by 13 but not by 3 are: \n",
            "104 130 143 169 182 208 221 247 260 286 299 325 338 364 377 403 416 442 455 481 494 "
          ]
        }
      ]
    },
    {
      "cell_type": "code",
      "source": [
        "# 15)Write a Python program to convert temperatures to and from Celsius and Fahrenheit.\n",
        "# Celsius to Fahrenheit: F = C * 9/5 + 32\n",
        "# Fahrenheit to Celsius: C = (F - 32) * 5/9\n",
        "\n",
        "choice = input(\"Enter C to convert Celsius to Fahrenheit, F for Fahrenheit to Celsius: \").upper()\n",
        "\n",
        "if choice == 'C':\n",
        "  celsius = float(input(\"Enter temperature in Celsius: \"))\n",
        "  fahrenheit = celsius * (9/5) + 32\n",
        "  print(celsius, \"Celsius is\", round(fahrenheit, 2), \"Fahrenheit\")\n",
        "\n",
        "elif choice == 'F':\n",
        "  fahrenheit = float(input(\"Enter temperature in Fahrenheit: \"))\n",
        "  celsius = (fahrenheit - 32) * (5/9)\n",
        "  print(fahrenheit, \"Fahrenheit is\", round(celsius, 2), \"Celsius\")\n",
        "else:\n",
        "  print(\"Invalid input\")"
      ],
      "metadata": {
        "colab": {
          "base_uri": "https://localhost:8080/"
        },
        "id": "_58jra91-YXf",
        "outputId": "488f76de-886d-4991-ce27-a98df5c66ce2"
      },
      "execution_count": null,
      "outputs": [
        {
          "output_type": "stream",
          "name": "stdout",
          "text": [
            "Enter C to convert Celsius to Fahrenheit, F for Fahrenheit to Celsius: f\n",
            "Enter temperature in Fahrenheit: 20\n",
            "20.0 Fahrenheit is -6.67 Celsius\n"
          ]
        }
      ]
    },
    {
      "cell_type": "code",
      "source": [
        "# 16) Write a Python program that takes two digits m (row) and n (column) as input and generates a two-dimensional array. The element value in the i-th row and j-th column of the array should be i*j. else it will be 0\n",
        "\n",
        "m = int(input(\"Enter number of rows: \"))\n",
        "n = int(input(\"Enter number of columns: \"))\n",
        "array = [[0 for j in range(n)] for i in range(m)]\n",
        "\n",
        "for i in range(m):\n",
        "    for j in range(n):\n",
        "        array[i][j] = i*j\n",
        "\n",
        "print(array)"
      ],
      "metadata": {
        "colab": {
          "base_uri": "https://localhost:8080/"
        },
        "id": "ol43RYObBHeM",
        "outputId": "71aeb2fd-6def-4349-888d-a1e1a0bf3067"
      },
      "execution_count": null,
      "outputs": [
        {
          "output_type": "stream",
          "name": "stdout",
          "text": [
            "Enter number of rows: 3\n",
            "Enter number of columns: 5\n",
            "[[0, 0, 0, 0, 0], [0, 1, 2, 3, 4], [0, 2, 4, 6, 8]]\n"
          ]
        }
      ]
    },
    {
      "cell_type": "code",
      "source": [
        "# 17) Write a Python program that accepts a string and calculates the number of digits and letters.\n",
        "#Sample Data: Python 3.2\n",
        "#Expected Output:\n",
        "#Letters 6\n",
        "#Digits 2\n",
        "\n",
        "string = input(\"Enter any string: \")\n",
        "letters = 0\n",
        "digits = 0\n",
        "for char in string:\n",
        "    if char.isalpha():\n",
        "        letters += 1\n",
        "    elif char.isdigit():\n",
        "        digits += 1\n",
        "\n",
        "print(\"Letters:\", letters)\n",
        "print(\"Digits:\", digits)"
      ],
      "metadata": {
        "colab": {
          "base_uri": "https://localhost:8080/"
        },
        "id": "xib7ajJKC_lU",
        "outputId": "25375861-93ad-41b5-a3a2-d9f8ab0f1697"
      },
      "execution_count": null,
      "outputs": [
        {
          "output_type": "stream",
          "name": "stdout",
          "text": [
            "Enter any string: Python 3.2\n",
            "Letters: 6\n",
            "Digits: 2\n"
          ]
        }
      ]
    },
    {
      "cell_type": "code",
      "source": [
        "# 18) Print all possible combination for a string or a word\n",
        "# Sample input “ABC”\n",
        "# Sample output\n",
        "# BAC\n",
        "# CAB\n",
        "# CBA\n",
        "# ACB\n",
        "# BCA\n",
        "\n",
        "string = input(\"Enter any string or a word: \")\n",
        "n = len(string)\n",
        "\n",
        "for i in range(n):\n",
        "    for j in range(n):\n",
        "        if i != j:\n",
        "            for k in range(n):\n",
        "                if i != k and j != k:\n",
        "                    print(string[j]+string[k]+string[i])"
      ],
      "metadata": {
        "colab": {
          "base_uri": "https://localhost:8080/"
        },
        "id": "-MbIzLq8DyIH",
        "outputId": "babb1140-5b71-45bd-d513-a8a35796b59b"
      },
      "execution_count": null,
      "outputs": [
        {
          "output_type": "stream",
          "name": "stdout",
          "text": [
            "Enter any string or a word: ABC\n",
            "BCA\n",
            "CBA\n",
            "ACB\n",
            "CAB\n",
            "ABC\n",
            "BAC\n"
          ]
        }
      ]
    },
    {
      "cell_type": "code",
      "source": [
        "6# 19) Write a Python program to check if a triangle is equilateral, isosceles or scalene. Take 3 inputs for each side\n",
        "# Note :\n",
        "# An equilateral triangle is a triangle in which all three sides are equal.\n",
        "# A scalene triangle is a triangle that has three unequal sides.\n",
        "# An isosceles triangle is a triangle with (at least) two equal sides.\n",
        "\n",
        "print(\"Enter 3 sides of the triangle:\")\n",
        "\n",
        "side1 = int(input(\"Side 1: \"))\n",
        "side2 = int(input(\"Side 2: \"))\n",
        "side3 = int(input(\"Side 3: \"))\n",
        "\n",
        "if side1 == side2 and side2 == side3:\n",
        "  print(\"This is an equilateral triangle\")\n",
        "\n",
        "else:\n",
        "  if side1 == side2 or side2 == side3 or side1 == side3:\n",
        "    print(\"This is an isosceles triangle\")\n",
        "\n",
        "  else:\n",
        "    print(\"This is a scalene triangle\")"
      ],
      "metadata": {
        "id": "NuPlVUhMGPBT",
        "colab": {
          "base_uri": "https://localhost:8080/"
        },
        "outputId": "112d28b3-fbae-4c1e-862d-3f007c0af1a9"
      },
      "execution_count": 3,
      "outputs": [
        {
          "output_type": "stream",
          "name": "stdout",
          "text": [
            "Enter 3 sides of the triangle:\n",
            "Side 1: 4\n",
            "Side 2: 4\n",
            "Side 3: 6\n",
            "This is an isosceles triangle\n"
          ]
        }
      ]
    },
    {
      "cell_type": "code",
      "source": [
        "# 20) Write a Python program to get the next day of a given date.\n",
        "# Expected Output:\n",
        "# Input a year: 2016\n",
        "# Input a month [1-12]: 08\n",
        "# Input a day [1-31]: 23\n",
        "# The next date is [yyyy-mm-dd] 2016-8-24\n",
        "\n",
        "day = int(input(\"Enter day (1-31): \"))\n",
        "month = int(input(\"Enter month (1-12): \"))\n",
        "year = int(input(\"Enter year: \"))\n",
        "\n",
        "if month in {1, 3, 5, 7, 8, 10, 12}:\n",
        "    max_days = 31\n",
        "elif month == 2:\n",
        "    if year % 4 == 0:\n",
        "        max_days = 29\n",
        "    else:\n",
        "        max_days = 28\n",
        "else:\n",
        "    max_days = 30\n",
        "\n",
        "if day < max_days:\n",
        "    day += 1\n",
        "else:\n",
        "    day = 1\n",
        "    if month == 12:\n",
        "        month = 1\n",
        "        year += 1\n",
        "    else:\n",
        "        month += 1\n",
        "\n",
        "print(\"Next date is: %d/%d/%d\" % (year, month, day))"
      ],
      "metadata": {
        "id": "DYSDqDLtGdwe",
        "colab": {
          "base_uri": "https://localhost:8080/"
        },
        "outputId": "5a675e76-9bf0-4ff9-ca8d-402f80e1ceab"
      },
      "execution_count": 7,
      "outputs": [
        {
          "output_type": "stream",
          "name": "stdout",
          "text": [
            "Enter day (1-31): 30\n",
            "Enter month (1-12): 2\n",
            "Enter year: 2023\n",
            "Next date is: 2023/3/1\n"
          ]
        }
      ]
    }
  ]
}