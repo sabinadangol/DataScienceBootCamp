{
  "nbformat": 4,
  "nbformat_minor": 0,
  "metadata": {
    "colab": {
      "provenance": []
    },
    "kernelspec": {
      "name": "python3",
      "display_name": "Python 3"
    },
    "language_info": {
      "name": "python"
    }
  },
  "cells": [
    {
      "cell_type": "markdown",
      "source": [
        "1.A company decided to give bonus of 5% to employee if his/her year of service is more than 5 years.\n",
        "Ask user for their salary and year of service and print the net bonus amount."
      ],
      "metadata": {
        "id": "Jf_bUwElsJss"
      }
    },
    {
      "cell_type": "code",
      "execution_count": 3,
      "metadata": {
        "colab": {
          "base_uri": "https://localhost:8080/"
        },
        "id": "YdYQvW3ITHjq",
        "outputId": "d4fad00b-69b9-48f7-c021-534438a94015"
      },
      "outputs": [
        {
          "output_type": "stream",
          "name": "stdout",
          "text": [
            "Enter your Salary: 2000\n",
            "Enter your years of service: 7\n",
            "Salary =  2000.0\n",
            "Years of service:  7.0\n",
            "Your net bonus is:  100.0\n"
          ]
        }
      ],
      "source": [
        "#1\n",
        "\n",
        "salary = float(input(\"Enter your Salary: \"))\n",
        "year = float(input(\"Enter your years of service: \"))\n",
        "\n",
        "print(\"Salary = \",salary)\n",
        "print(\"Years of service: \", year)\n",
        "if year>5:\n",
        "  bonus = salary *0.05\n",
        "  print(\"Your net bonus is: 7\",bonus)\n",
        "else:\n",
        "  print(\"Not eligible\")"
      ]
    },
    {
      "cell_type": "markdown",
      "source": [
        "2.Take values of length and breadth of a rectangle from user and check if it is square or not.\n"
      ],
      "metadata": {
        "id": "U_1GN1V4sB9P"
      }
    },
    {
      "cell_type": "code",
      "source": [
        "#2\n",
        "\n",
        "length = float(input(\"Enter Length: \"))\n",
        "breadth = float(input(\"Enter Breadth: \"))\n",
        "if length == breadth:\n",
        "  print(\"It is a square\")\n",
        "else:\n",
        "  print(\"It is not a square\")"
      ],
      "metadata": {
        "colab": {
          "base_uri": "https://localhost:8080/"
        },
        "id": "5RjgPzfjVqVI",
        "outputId": "37290716-e4f2-49bb-e32f-e5199296d3ce"
      },
      "execution_count": 5,
      "outputs": [
        {
          "output_type": "stream",
          "name": "stdout",
          "text": [
            "Enter Length: 3\n",
            "Enter Breadth: 4\n",
            "It is not a square\n"
          ]
        }
      ]
    },
    {
      "cell_type": "markdown",
      "source": [
        "3.Take two int values from user and print greatest among them."
      ],
      "metadata": {
        "id": "hRvIa__qsPvo"
      }
    },
    {
      "cell_type": "code",
      "source": [
        "#3\n",
        "\n",
        "num1 = int(input(\"Enter First number: \"))\n",
        "num2 = int(input(\"Enter second number: \"))\n",
        "if num1>num2:\n",
        "  print(\"The first number\", num1,\"is greater than second number\",num2)\n",
        "else:\n",
        "  print(\"The second number\", num2,\"is greater than first number\",num1)"
      ],
      "metadata": {
        "colab": {
          "base_uri": "https://localhost:8080/"
        },
        "id": "s5iTfWtSWpvL",
        "outputId": "8d999c7d-61f8-4838-e5e1-585ce5900db2"
      },
      "execution_count": 7,
      "outputs": [
        {
          "output_type": "stream",
          "name": "stdout",
          "text": [
            "Enter First number: 5\n",
            "Enter second number: 3\n",
            "The first number 5 is greater than second number 3\n"
          ]
        }
      ]
    },
    {
      "cell_type": "markdown",
      "source": [
        "4.A shop will give discount of 10% if the cost of purchased quantity is more than 1000.\n",
        "Ask user for quantity\n",
        "Suppose, one unit will cost 100.\n",
        "Judge and print total cost for user."
      ],
      "metadata": {
        "id": "A4v6y8cBsT2m"
      }
    },
    {
      "cell_type": "code",
      "source": [
        "#4\n",
        "\n",
        "qty = int(input(\"Enter total quantity: \"))\n",
        "total_cost=qty*100\n",
        "if total_cost > 1000:\n",
        "  discounted_total = total_cost - total_cost*0.1\n",
        "  print(\"Total cost of purchased quantity after discount (10%): \", discounted_total)\n",
        "else:\n",
        "  print(\"Total cost of purchased quantity: \", qty*100)"
      ],
      "metadata": {
        "colab": {
          "base_uri": "https://localhost:8080/"
        },
        "id": "rtwDYzt1XqQj",
        "outputId": "29b3badc-6f23-47e6-f90a-a7f0cc1cd052"
      },
      "execution_count": 16,
      "outputs": [
        {
          "output_type": "stream",
          "name": "stdout",
          "text": [
            "Enter total quantity: 11\n",
            "Total cost of purchased quantity after discount (10%):  990.0\n"
          ]
        }
      ]
    },
    {
      "cell_type": "markdown",
      "source": [
        "5.A school has following rules for grading system:\n",
        "a. Below 25 - F\n",
        "b. 25 to 45 - E\n",
        "c. 45 to 50 - D\n",
        "d. 50 to 60 - C\n",
        "e. 60 to 80 - B\n",
        "f. Above 80 - A\n",
        "Ask user to enter marks and print the corresponding grade."
      ],
      "metadata": {
        "id": "kV9axFYdsXaC"
      }
    },
    {
      "cell_type": "code",
      "source": [
        "#5\n",
        "\n",
        "marks = float(input(\"Enter marks: \"))\n",
        "print(\"Your Marks = \",marks)\n",
        "if marks <25:\n",
        "  print(\"Grade = F\")\n",
        "elif marks>=25 and marks<45:\n",
        "  print(\"Grade = E\")\n",
        "elif marks>=45 and marks<50:\n",
        "  print(\"Grade = D\")\n",
        "elif marks>=50 and marks<60:\n",
        "  print(\"Grade = C\")\n",
        "elif marks>=60 and marks<80:\n",
        "  print(\"Grade = B\")\n",
        "else:\n",
        "  print(\"Grade = A\")"
      ],
      "metadata": {
        "colab": {
          "base_uri": "https://localhost:8080/"
        },
        "id": "wLizufwQbU2i",
        "outputId": "ee83e3d3-6f90-427b-af75-a238e33d8145"
      },
      "execution_count": 25,
      "outputs": [
        {
          "output_type": "stream",
          "name": "stdout",
          "text": [
            "Enter marks: 55\n",
            "Your Marks =  55.0\n",
            "Grade = C\n"
          ]
        }
      ]
    },
    {
      "cell_type": "markdown",
      "source": [
        "6.Take input of age of 3 people by user and determine oldest and youngest among them."
      ],
      "metadata": {
        "id": "5zZne5IVsa_9"
      }
    },
    {
      "cell_type": "code",
      "source": [
        "#6\n",
        "\n",
        "age1 =int(input(\"Enter your age: \"))\n",
        "age2 =int(input(\"Enter your age: \"))\n",
        "age3 =int(input(\"Enter your age: \"))\n",
        "print(\"First = \",age1)\n",
        "print(\"Second = \",age2)\n",
        "print(\"Third = \",age3)\n",
        "if age1>age2 and age1 > age3:\n",
        "  print(\"The first age entered\",age1,\"is greater than\",age2, \"and\",age3)\n",
        "elif age2>age1 and age2 > age3:\n",
        "  print(\"The second age entered\",age2,\"is greater than\",age1, \"and\",age3)\n",
        "else:\n",
        "  print(\"The third age entered\",age3,\"is greater than\",age1, \"and\",age2)"
      ],
      "metadata": {
        "colab": {
          "base_uri": "https://localhost:8080/"
        },
        "id": "QGpCRVuCgI38",
        "outputId": "ecf4a256-012d-481d-deef-a35176a41198"
      },
      "execution_count": 29,
      "outputs": [
        {
          "output_type": "stream",
          "name": "stdout",
          "text": [
            "Enter your age: 5\n",
            "Enter your age: 8\n",
            "Enter your age: 4\n",
            "First =  5\n",
            "Second =  8\n",
            "Third =  4\n",
            "The second age entered 8 is greater than 5 and 4\n"
          ]
        }
      ]
    },
    {
      "cell_type": "markdown",
      "source": [
        "7.Write a program to print absolute vlaue of a number entered by user. E.g.-\n",
        "INPUT: 1        OUTPUT: 1\n",
        "INPUT: -1        OUTPUT: 1"
      ],
      "metadata": {
        "id": "b21VuHznseH0"
      }
    },
    {
      "cell_type": "code",
      "source": [
        "#7\n",
        "\n",
        "num=int(input(\"Enter any number: \"))\n",
        "#if num==num or num== -num:\n",
        "print(\"INPUT: \",num,\"   OUTPUT: \",abs(num))"
      ],
      "metadata": {
        "colab": {
          "base_uri": "https://localhost:8080/"
        },
        "id": "TxiLY1seinEZ",
        "outputId": "32e4a074-5a67-490b-bb4e-0435267bbdc0"
      },
      "execution_count": 33,
      "outputs": [
        {
          "output_type": "stream",
          "name": "stdout",
          "text": [
            "Enter any number: -5\n",
            "INPUT:  -5    OUTPUT:  5\n"
          ]
        }
      ]
    },
    {
      "cell_type": "markdown",
      "source": [
        "8.A student will not be allowed to sit in exam if his/her attendence is less than 75%.\n",
        "Take following input from user\n",
        "Number of classes held\n",
        "Number of classes attended.\n",
        "And print\n",
        "percentage of class attended\n",
        "Is student is allowed to sit in exam or not."
      ],
      "metadata": {
        "id": "b0CpoRcAshDC"
      }
    },
    {
      "cell_type": "code",
      "source": [
        "#8\n",
        "\n",
        "num1 = int(input(\"Number of classes held: \"))\n",
        "num2 = int(input(\"Number of classes attended: \"))\n",
        "class_perc = (num2/num1)*100\n",
        "print(\"Percentage of class attended =\",class_perc,\"%\")\n",
        "if class_perc < 75:\n",
        "  print(\"This student is not allowed to sit in exam\")\n",
        "else:\n",
        "  print(\"This student is allowed to sit in exam\")"
      ],
      "metadata": {
        "colab": {
          "base_uri": "https://localhost:8080/"
        },
        "id": "M7S7PK7Pkeh0",
        "outputId": "665e99c1-037d-40d7-cf4a-979419ea59ef"
      },
      "execution_count": 37,
      "outputs": [
        {
          "output_type": "stream",
          "name": "stdout",
          "text": [
            "Number of classes held: 100\n",
            "Number of classes attended: 90\n",
            "Percentage of class attended = 90.0 %\n",
            "This student is allowed to sit in exam\n"
          ]
        }
      ]
    },
    {
      "cell_type": "markdown",
      "source": [
        "9.Modify the above question to allow student to sit if he/she has medical cause. Ask user if he/she has medical cause or not ( 'Y' or 'N' ) and print accordingly."
      ],
      "metadata": {
        "id": "xsyT6nzBsjhm"
      }
    },
    {
      "cell_type": "code",
      "source": [
        "#9\n",
        "\n",
        "num1 = int(input(\"Number of classes held: \"))\n",
        "num2 = int(input(\"Number of classes attended: \"))\n",
        "med = input(\"Did you have medical issues (Y/N): \")\n",
        "class_perc = (num2/num1)*100\n",
        "print(\"Percentage of class attended =\",class_perc,\"%\")\n",
        "print(\"Medical issue of the student = \",med)\n",
        "if class_perc < 75:\n",
        "  if med ==\"Y\":\n",
        "    print(\"This student is allowed to sit in exam\")\n",
        "  else:\n",
        "    print(\"This student is NOT allowed to sit in exam\")\n",
        "else:\n",
        "    print(\"This student is allowed to sit in exam\")\n",
        "\n"
      ],
      "metadata": {
        "colab": {
          "base_uri": "https://localhost:8080/"
        },
        "id": "aavPR3ViqbXO",
        "outputId": "bb739c59-893a-42d6-cee3-eef66c6ce6f7"
      },
      "execution_count": 58,
      "outputs": [
        {
          "output_type": "stream",
          "name": "stdout",
          "text": [
            "Number of classes held: 100\n",
            "Number of classes attended: 60\n",
            "Did you have medical issues (Y/N): Y\n",
            "Percentage of class attended = 60.0 %\n",
            "Medical issue of the student =  Y\n",
            "This student is allowed to sit in exam\n"
          ]
        }
      ]
    },
    {
      "cell_type": "markdown",
      "source": [],
      "metadata": {
        "id": "31tDDwPQbTVf"
      }
    }
  ]
}