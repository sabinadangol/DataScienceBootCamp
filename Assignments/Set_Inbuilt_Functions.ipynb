{
  "nbformat": 4,
  "nbformat_minor": 0,
  "metadata": {
    "colab": {
      "provenance": []
    },
    "kernelspec": {
      "name": "python3",
      "display_name": "Python 3"
    },
    "language_info": {
      "name": "python"
    }
  },
  "cells": [
    {
      "cell_type": "code",
      "execution_count": null,
      "metadata": {
        "colab": {
          "base_uri": "https://localhost:8080/"
        },
        "id": "csWvIOZo_c6w",
        "outputId": "d6131c9d-4862-4ce3-9fee-a64399f9aedb"
      },
      "outputs": [
        {
          "output_type": "execute_result",
          "data": {
            "text/plain": [
              "['__and__',\n",
              " '__class__',\n",
              " '__class_getitem__',\n",
              " '__contains__',\n",
              " '__delattr__',\n",
              " '__dir__',\n",
              " '__doc__',\n",
              " '__eq__',\n",
              " '__format__',\n",
              " '__ge__',\n",
              " '__getattribute__',\n",
              " '__gt__',\n",
              " '__hash__',\n",
              " '__iand__',\n",
              " '__init__',\n",
              " '__init_subclass__',\n",
              " '__ior__',\n",
              " '__isub__',\n",
              " '__iter__',\n",
              " '__ixor__',\n",
              " '__le__',\n",
              " '__len__',\n",
              " '__lt__',\n",
              " '__ne__',\n",
              " '__new__',\n",
              " '__or__',\n",
              " '__rand__',\n",
              " '__reduce__',\n",
              " '__reduce_ex__',\n",
              " '__repr__',\n",
              " '__ror__',\n",
              " '__rsub__',\n",
              " '__rxor__',\n",
              " '__setattr__',\n",
              " '__sizeof__',\n",
              " '__str__',\n",
              " '__sub__',\n",
              " '__subclasshook__',\n",
              " '__xor__',\n",
              " 'add',\n",
              " 'clear',\n",
              " 'copy',\n",
              " 'difference',\n",
              " 'difference_update',\n",
              " 'discard',\n",
              " 'intersection',\n",
              " 'intersection_update',\n",
              " 'isdisjoint',\n",
              " 'issubset',\n",
              " 'issuperset',\n",
              " 'pop',\n",
              " 'remove',\n",
              " 'symmetric_difference',\n",
              " 'symmetric_difference_update',\n",
              " 'union',\n",
              " 'update']"
            ]
          },
          "metadata": {},
          "execution_count": 1
        }
      ],
      "source": [
        "set1 = {1, 2, 3, 4, 4, 5}\n",
        "dir(set1)"
      ]
    },
    {
      "cell_type": "code",
      "source": [
        "#add function Adds elements to the set\n",
        "set1 = {1, 2, 3, 4, 4, 5}\n",
        "print(\"Before add: \",set1)\n",
        "set1.add('a')\n",
        "print('After add',set1)\n"
      ],
      "metadata": {
        "colab": {
          "base_uri": "https://localhost:8080/"
        },
        "id": "FxY5WLwr_97N",
        "outputId": "fc467418-69fc-4e1c-d31b-3859850855f4"
      },
      "execution_count": null,
      "outputs": [
        {
          "output_type": "stream",
          "name": "stdout",
          "text": [
            "Before add:  {1, 2, 3, 4, 5}\n",
            "After add {1, 2, 3, 4, 5, 'a'}\n"
          ]
        }
      ]
    },
    {
      "cell_type": "code",
      "source": [
        "#clear function removes all elements of the set\n",
        "set1 = {'a','b','c','D','E','F',1,2,3,4,5}\n",
        "print(\"Before clear: \",set1)\n",
        "set1.clear()\n",
        "print('After clear',set1)"
      ],
      "metadata": {
        "colab": {
          "base_uri": "https://localhost:8080/"
        },
        "id": "uEs5y4SwBhRg",
        "outputId": "c3b628e6-6e1a-4124-dc52-e87f92b82ad6"
      },
      "execution_count": null,
      "outputs": [
        {
          "output_type": "stream",
          "name": "stdout",
          "text": [
            "Before clear:  {1, 2, 3, 4, 5, 'a', 'c', 'b', 'E', 'F', 'D'}\n",
            "After clear set()\n"
          ]
        }
      ]
    },
    {
      "cell_type": "code",
      "source": [
        "#Copy function creates a copy of the original set.\n",
        "set1 = {'a','b','c','D','E','F',1,2,3,4,5}\n",
        "set2 = set1.copy()\n",
        "print(\"Original Set:\", set1)\n",
        "print(\"Copied Set:\", set2)"
      ],
      "metadata": {
        "colab": {
          "base_uri": "https://localhost:8080/"
        },
        "id": "38P7YKfdCkvj",
        "outputId": "20c493a6-0896-40f1-f7ea-23eca7f61352"
      },
      "execution_count": null,
      "outputs": [
        {
          "output_type": "stream",
          "name": "stdout",
          "text": [
            "Original Set: {1, 2, 3, 4, 5, 'a', 'c', 'b', 'E', 'F', 'D'}\n",
            "Copied Set: {1, 2, 3, 4, 5, 'a', 'c', 'b', 'E', 'F', 'D'}\n"
          ]
        }
      ]
    },
    {
      "cell_type": "code",
      "source": [
        "#Difference between sets\n",
        "set1 = {'a','b','c','D','E','F',1,2,3,4,5}\n",
        "set2 = {'a','b','e','f','A','B',4,5,6,7,8,9}\n",
        "difference_result = set1.difference(set2)\n",
        "print(difference_result)"
      ],
      "metadata": {
        "colab": {
          "base_uri": "https://localhost:8080/"
        },
        "id": "DfpBzDrGDyGU",
        "outputId": "22a0fe87-f74c-44d3-e9bd-b7a0d58bb209"
      },
      "execution_count": null,
      "outputs": [
        {
          "output_type": "stream",
          "name": "stdout",
          "text": [
            "{1, 2, 3, 'c', 'E', 'F', 'D'}\n"
          ]
        }
      ]
    },
    {
      "cell_type": "code",
      "source": [
        "# Remove elements from one set that are present in another set\n",
        "set1 = {'a','b','c','D','E','F',1,2,3,4,5}\n",
        "set2 = {'a','b','e','f','A','B',4,5,6,7,8,9}\n",
        "set1.difference_update(set2)\n",
        "print(set1)\n",
        "print(set2)\n",
        "print(\"Result after using difference_update:\",set1)\n"
      ],
      "metadata": {
        "colab": {
          "base_uri": "https://localhost:8080/"
        },
        "id": "ObRcic32FCOG",
        "outputId": "8e56ab43-9303-483a-9563-1873c5d40503"
      },
      "execution_count": null,
      "outputs": [
        {
          "output_type": "stream",
          "name": "stdout",
          "text": [
            "{1, 2, 3, 'c', 'E', 'F', 'D'}\n",
            "{4, 5, 6, 7, 'f', 8, 9, 'A', 'a', 'b', 'e', 'B'}\n",
            "Result after using difference_update: {1, 2, 3, 'c', 'E', 'F', 'D'}\n"
          ]
        }
      ]
    },
    {
      "cell_type": "code",
      "source": [
        "#Discard function removes the element passed from the set\n",
        "set1 = {'a','b','c','D','E','F',1,2,3,4,5}\n",
        "\n",
        "print(\"Before discard function: \",set1)\n",
        "set1.discard('F')\n",
        "print('After discard function',set1)\n",
        "set1.discard(100)         #Does not change the set as 100 was not present in the set\n",
        "print(set1)"
      ],
      "metadata": {
        "colab": {
          "base_uri": "https://localhost:8080/"
        },
        "id": "aEu3axymGw5I",
        "outputId": "fb7799a6-33ae-4a37-d909-6178e8294a3d"
      },
      "execution_count": null,
      "outputs": [
        {
          "output_type": "stream",
          "name": "stdout",
          "text": [
            "Before discard function:  {1, 2, 3, 4, 5, 'a', 'c', 'b', 'E', 'F', 'D'}\n",
            "After discard function {1, 2, 3, 4, 5, 'a', 'c', 'b', 'E', 'D'}\n",
            "{1, 2, 3, 4, 5, 'a', 'c', 'b', 'E', 'D'}\n"
          ]
        }
      ]
    },
    {
      "cell_type": "code",
      "source": [
        "#Intersection function returns the common elements of the sets\n",
        "\n",
        "set1 = {'a','b','c','D','E','F',1,2,3,4,5}\n",
        "set2 = {'a','b','e','f','A','B',4,5,6,7,8,9}\n",
        "result = set1.intersection(set2)\n",
        "print(\"The result of intersection of two sets:\",result)"
      ],
      "metadata": {
        "colab": {
          "base_uri": "https://localhost:8080/"
        },
        "id": "PHcWFYinIaGE",
        "outputId": "e92184e5-323f-4eec-dd5f-c63efa7af8f2"
      },
      "execution_count": null,
      "outputs": [
        {
          "output_type": "stream",
          "name": "stdout",
          "text": [
            "The result of intersection of two sets: {'b', 4, 5, 'a'}\n"
          ]
        }
      ]
    },
    {
      "cell_type": "code",
      "source": [
        "#intersection_update\n",
        "\n",
        "set1 = {'a','b','c','D','E','F',1,2,3,4,5,33,44,55}\n",
        "set2 = {'a','b','e','f','A','B',4,5,6,7,8,9,33,44,55}\n",
        "set1.intersection_update(set2)\n",
        "print(\"The result of intersection_update function of two sets:\",set1)"
      ],
      "metadata": {
        "colab": {
          "base_uri": "https://localhost:8080/"
        },
        "id": "ZAyWLtfYJDRN",
        "outputId": "375a91e9-51cd-4aa0-a2b4-0db7068ec923"
      },
      "execution_count": 41,
      "outputs": [
        {
          "output_type": "stream",
          "name": "stdout",
          "text": [
            "The result of intersection_update function of two sets: {33, 4, 5, 44, 'a', 'b', 55}\n"
          ]
        }
      ]
    },
    {
      "cell_type": "code",
      "source": [
        "#isdisjoint\n",
        "set1 = {'a','b','c','D','E','F',1,2,3,4,5,33,44,55}\n",
        "set2 = {'a','b','e','f','A','B',4,5,6,7,8,9,33,44,55}\n",
        "set1.isdisjoint(set2)\n",
        "print(set1)"
      ],
      "metadata": {
        "colab": {
          "base_uri": "https://localhost:8080/"
        },
        "id": "9_ZX7_uHKM9v",
        "outputId": "c0c2ff1a-18b5-45b2-ec78-d36fe8189b17"
      },
      "execution_count": 40,
      "outputs": [
        {
          "output_type": "stream",
          "name": "stdout",
          "text": [
            "{1, 2, 3, 4, 5, 33, 'F', 44, 'a', 'c', 'b', 'E', 55, 'D'}\n"
          ]
        }
      ]
    },
    {
      "cell_type": "code",
      "source": [
        "#issubset\n",
        "set1 = {'a','b','c','D','E','F',1,2,3,4,5,33,44,55}\n",
        "set2 = {'a','b','e','f','A','B',4,5,6,7,8,9,33,44,55}\n",
        "set1.issubset(set2)\n",
        "print(set1)"
      ],
      "metadata": {
        "colab": {
          "base_uri": "https://localhost:8080/"
        },
        "id": "X9wCYVEsKlb9",
        "outputId": "c7743997-c453-4566-b528-353fe6e823a6"
      },
      "execution_count": 39,
      "outputs": [
        {
          "output_type": "stream",
          "name": "stdout",
          "text": [
            "{1, 2, 3, 4, 5, 33, 'F', 44, 'a', 'c', 'b', 'E', 55, 'D'}\n"
          ]
        }
      ]
    },
    {
      "cell_type": "code",
      "source": [
        "#issuperset\n",
        "set1 = {'a','b','c','D','E','F',1,2,3,4,5,33,44,55}\n",
        "set2 = {'a','b','e','f','A','B',4,5,6,7,8,9,33,44,55}\n",
        "set1.issuperset(set2)\n",
        "print(set1)"
      ],
      "metadata": {
        "colab": {
          "base_uri": "https://localhost:8080/"
        },
        "id": "8pUCxSjpLNIQ",
        "outputId": "dda8e4cc-36b5-4378-b04a-5262216cf62c"
      },
      "execution_count": 38,
      "outputs": [
        {
          "output_type": "stream",
          "name": "stdout",
          "text": [
            "{1, 2, 3, 4, 5, 33, 'F', 44, 'a', 'c', 'b', 'E', 55, 'D'}\n"
          ]
        }
      ]
    },
    {
      "cell_type": "code",
      "source": [
        "# pop function removes an arbitrary element from the set and returns it.\n",
        "set1 = {'a','b','c','D','E','F',1,2,3,4,5,33,44,55}\n",
        "print(\"Removed Element:\",set1.pop())\n",
        "print(\"Updated Set:\",set1)"
      ],
      "metadata": {
        "colab": {
          "base_uri": "https://localhost:8080/"
        },
        "id": "JDHUlDOoLU8G",
        "outputId": "23d684e3-2ed8-4c13-a3bf-139c76ee3e79"
      },
      "execution_count": 30,
      "outputs": [
        {
          "output_type": "stream",
          "name": "stdout",
          "text": [
            "Removed Element: 1\n",
            "Updated Set: {2, 3, 4, 5, 33, 'F', 44, 'a', 'c', 'b', 'E', 55, 'D'}\n"
          ]
        }
      ]
    },
    {
      "cell_type": "code",
      "source": [
        "#remove function deletes an element from a set\n",
        "set1 = {'a','b','c','D','E','F',1,2,3,4,5,33,44,55}\n",
        "set1.remove(33)\n",
        "print(set1)\n"
      ],
      "metadata": {
        "colab": {
          "base_uri": "https://localhost:8080/"
        },
        "id": "t1zauMP5MOJp",
        "outputId": "0d181663-cf82-4d56-9417-a11554a5c509"
      },
      "execution_count": 31,
      "outputs": [
        {
          "output_type": "stream",
          "name": "stdout",
          "text": [
            "{1, 2, 3, 4, 5, 'F', 44, 'a', 'c', 'b', 'E', 55, 'D'}\n"
          ]
        }
      ]
    },
    {
      "cell_type": "code",
      "source": [
        "#symmetric_difference\n",
        "set1 = {'a','b','c','D','E','F',1,2,3,4,5,33,44,55}\n",
        "set2 = {'a','b','e','f','A','B',4,5,6,7,8,9,33,44,55}\n",
        "result = set1.symmetric_difference(set2)\n",
        "print(\"After symmetric difference:\",result)"
      ],
      "metadata": {
        "colab": {
          "base_uri": "https://localhost:8080/"
        },
        "id": "9qIY_cULMzUj",
        "outputId": "e92fed31-4d11-4f72-e0cc-3476a18f568d"
      },
      "execution_count": 33,
      "outputs": [
        {
          "output_type": "stream",
          "name": "stdout",
          "text": [
            "After symmetric difference: {1, 2, 3, 6, 7, 'f', 8, 9, 'A', 'c', 'E', 'F', 'B', 'D', 'e'}\n"
          ]
        }
      ]
    },
    {
      "cell_type": "code",
      "source": [
        "#Union\n",
        "\n",
        "set1 = {'a','b','c','D','E','F',1,2,3,4,5,33,44,55}\n",
        "set2 = {'a','b','e','f','A','B',4,5,6,7,8,9,33,44,55}\n",
        "\n",
        "print(\"The union of two sets:\",set1.union(set2))"
      ],
      "metadata": {
        "colab": {
          "base_uri": "https://localhost:8080/"
        },
        "id": "9oUrHARsNTpL",
        "outputId": "da20792c-7950-4109-bfb8-ce757ffd29bb"
      },
      "execution_count": 34,
      "outputs": [
        {
          "output_type": "stream",
          "name": "stdout",
          "text": [
            "The union of two sets: {1, 2, 3, 4, 5, 6, 7, 'f', 8, 9, 'A', 'c', 'E', 'F', 'B', 'D', 33, 44, 'a', 'b', 55, 'e'}\n"
          ]
        }
      ]
    },
    {
      "cell_type": "code",
      "source": [
        "#update\n",
        "\n",
        "set1 = {1,2,3,4,5}\n",
        "set2 = {4,5,6,7,8,9,33,44,55}\n",
        "set1.update(set2)\n",
        "print(\"Using update function:\",set1)"
      ],
      "metadata": {
        "colab": {
          "base_uri": "https://localhost:8080/"
        },
        "id": "mYp76JGbNzdC",
        "outputId": "dff3b504-2c89-4850-abff-a092650c9e8c"
      },
      "execution_count": 37,
      "outputs": [
        {
          "output_type": "stream",
          "name": "stdout",
          "text": [
            "Using update function: {1, 2, 3, 4, 5, 33, 6, 7, 8, 9, 44, 55}\n"
          ]
        }
      ]
    }
  ]
}